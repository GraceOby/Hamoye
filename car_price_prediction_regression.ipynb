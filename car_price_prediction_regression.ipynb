{
  "nbformat": 4,
  "nbformat_minor": 0,
  "metadata": {
    "colab": {
      "provenance": [],
      "toc_visible": true,
      "mount_file_id": "1d8skHtDriKjNGwaS1oA78L_tLytrDP6j",
      "authorship_tag": "ABX9TyMWjsVXvXVh0TxgnzzAE38r",
      "include_colab_link": true
    },
    "kernelspec": {
      "name": "python3",
      "display_name": "Python 3"
    },
    "language_info": {
      "name": "python"
    }
  },
  "cells": [
    {
      "cell_type": "markdown",
      "metadata": {
        "id": "view-in-github",
        "colab_type": "text"
      },
      "source": [
        "<a href=\"https://colab.research.google.com/github/GraceOby/Hamoye/blob/main/car_price_prediction_regression.ipynb\" target=\"_parent\"><img src=\"https://colab.research.google.com/assets/colab-badge.svg\" alt=\"Open In Colab\"/></a>"
      ]
    },
    {
      "cell_type": "code",
      "execution_count": null,
      "metadata": {
        "colab": {
          "base_uri": "https://localhost:8080/"
        },
        "id": "3-XQ9K0sI0cn",
        "outputId": "4d3b1115-715f-499c-813d-c701b26cda99"
      },
      "outputs": [
        {
          "output_type": "stream",
          "name": "stdout",
          "text": [
            "Mounted at /content/gdrive/\n"
          ]
        }
      ],
      "source": [
        "from google.colab import drive\n",
        "\n",
        "drive.mount('/content/gdrive/', force_remount=True)"
      ]
    },
    {
      "cell_type": "code",
      "source": [
        "%cd gdrive/MyDrive/HAMOYE-Internship/"
      ],
      "metadata": {
        "colab": {
          "base_uri": "https://localhost:8080/"
        },
        "id": "xv1oOYWMQXzF",
        "outputId": "95ecb896-f344-403e-c533-e787b128bc72"
      },
      "execution_count": null,
      "outputs": [
        {
          "output_type": "stream",
          "name": "stdout",
          "text": [
            "/content/gdrive/MyDrive/HAMOYE-Internship\n"
          ]
        }
      ]
    },
    {
      "cell_type": "code",
      "source": [
        "import pandas as pd\n",
        "import numpy as np\n",
        "import matplotlib.pyplot as plt\n",
        "import seaborn as seaborn\n",
        "%matplotlib inline"
      ],
      "metadata": {
        "id": "Gs1FzrDAQgGO"
      },
      "execution_count": null,
      "outputs": []
    },
    {
      "cell_type": "code",
      "source": [
        "df = pd.read_csv(\"cars.csv\")\n",
        "df.head()"
      ],
      "metadata": {
        "colab": {
          "base_uri": "https://localhost:8080/",
          "height": 250
        },
        "id": "4S04OQneQ_7M",
        "outputId": "21ed4284-a4ba-4420-ae36-11b8fa572aa1"
      },
      "execution_count": null,
      "outputs": [
        {
          "output_type": "execute_result",
          "data": {
            "text/plain": [
              "  VehicleID Location          Maker                Model   Year  Colour  \\\n",
              "0  VHL12546    Abuja          Honda  Accord Coupe EX V-6  2,011  Silver   \n",
              "1  VHL18827   Ibadan        Hyundai               Sonata  2,012  Silver   \n",
              "2  VHL19499    Lagos          Lexus               RX 350  2,010     Red   \n",
              "3  VHL17991    Abuja  Mercedes-Benz            GLE-Class  2,017    Blue   \n",
              "4  VHL12170   Ibadan         Toyota           Highlander  2,002     Red   \n",
              "\n",
              "   Amount (Million Naira)           Type Distance  \n",
              "0                     2.2  Nigerian Used      NaN  \n",
              "1                     3.5  Nigerian Used  125,000  \n",
              "2                     9.2   Foreign Used  110,852  \n",
              "3                    22.8   Foreign Used   30,000  \n",
              "4                     2.6  Nigerian Used  125,206  "
            ],
            "text/html": [
              "\n",
              "  <div id=\"df-277375c3-bcfd-4662-9220-62331f2a2863\">\n",
              "    <div class=\"colab-df-container\">\n",
              "      <div>\n",
              "<style scoped>\n",
              "    .dataframe tbody tr th:only-of-type {\n",
              "        vertical-align: middle;\n",
              "    }\n",
              "\n",
              "    .dataframe tbody tr th {\n",
              "        vertical-align: top;\n",
              "    }\n",
              "\n",
              "    .dataframe thead th {\n",
              "        text-align: right;\n",
              "    }\n",
              "</style>\n",
              "<table border=\"1\" class=\"dataframe\">\n",
              "  <thead>\n",
              "    <tr style=\"text-align: right;\">\n",
              "      <th></th>\n",
              "      <th>VehicleID</th>\n",
              "      <th>Location</th>\n",
              "      <th>Maker</th>\n",
              "      <th>Model</th>\n",
              "      <th>Year</th>\n",
              "      <th>Colour</th>\n",
              "      <th>Amount (Million Naira)</th>\n",
              "      <th>Type</th>\n",
              "      <th>Distance</th>\n",
              "    </tr>\n",
              "  </thead>\n",
              "  <tbody>\n",
              "    <tr>\n",
              "      <th>0</th>\n",
              "      <td>VHL12546</td>\n",
              "      <td>Abuja</td>\n",
              "      <td>Honda</td>\n",
              "      <td>Accord Coupe EX V-6</td>\n",
              "      <td>2,011</td>\n",
              "      <td>Silver</td>\n",
              "      <td>2.2</td>\n",
              "      <td>Nigerian Used</td>\n",
              "      <td>NaN</td>\n",
              "    </tr>\n",
              "    <tr>\n",
              "      <th>1</th>\n",
              "      <td>VHL18827</td>\n",
              "      <td>Ibadan</td>\n",
              "      <td>Hyundai</td>\n",
              "      <td>Sonata</td>\n",
              "      <td>2,012</td>\n",
              "      <td>Silver</td>\n",
              "      <td>3.5</td>\n",
              "      <td>Nigerian Used</td>\n",
              "      <td>125,000</td>\n",
              "    </tr>\n",
              "    <tr>\n",
              "      <th>2</th>\n",
              "      <td>VHL19499</td>\n",
              "      <td>Lagos</td>\n",
              "      <td>Lexus</td>\n",
              "      <td>RX 350</td>\n",
              "      <td>2,010</td>\n",
              "      <td>Red</td>\n",
              "      <td>9.2</td>\n",
              "      <td>Foreign Used</td>\n",
              "      <td>110,852</td>\n",
              "    </tr>\n",
              "    <tr>\n",
              "      <th>3</th>\n",
              "      <td>VHL17991</td>\n",
              "      <td>Abuja</td>\n",
              "      <td>Mercedes-Benz</td>\n",
              "      <td>GLE-Class</td>\n",
              "      <td>2,017</td>\n",
              "      <td>Blue</td>\n",
              "      <td>22.8</td>\n",
              "      <td>Foreign Used</td>\n",
              "      <td>30,000</td>\n",
              "    </tr>\n",
              "    <tr>\n",
              "      <th>4</th>\n",
              "      <td>VHL12170</td>\n",
              "      <td>Ibadan</td>\n",
              "      <td>Toyota</td>\n",
              "      <td>Highlander</td>\n",
              "      <td>2,002</td>\n",
              "      <td>Red</td>\n",
              "      <td>2.6</td>\n",
              "      <td>Nigerian Used</td>\n",
              "      <td>125,206</td>\n",
              "    </tr>\n",
              "  </tbody>\n",
              "</table>\n",
              "</div>\n",
              "      <button class=\"colab-df-convert\" onclick=\"convertToInteractive('df-277375c3-bcfd-4662-9220-62331f2a2863')\"\n",
              "              title=\"Convert this dataframe to an interactive table.\"\n",
              "              style=\"display:none;\">\n",
              "        \n",
              "  <svg xmlns=\"http://www.w3.org/2000/svg\" height=\"24px\"viewBox=\"0 0 24 24\"\n",
              "       width=\"24px\">\n",
              "    <path d=\"M0 0h24v24H0V0z\" fill=\"none\"/>\n",
              "    <path d=\"M18.56 5.44l.94 2.06.94-2.06 2.06-.94-2.06-.94-.94-2.06-.94 2.06-2.06.94zm-11 1L8.5 8.5l.94-2.06 2.06-.94-2.06-.94L8.5 2.5l-.94 2.06-2.06.94zm10 10l.94 2.06.94-2.06 2.06-.94-2.06-.94-.94-2.06-.94 2.06-2.06.94z\"/><path d=\"M17.41 7.96l-1.37-1.37c-.4-.4-.92-.59-1.43-.59-.52 0-1.04.2-1.43.59L10.3 9.45l-7.72 7.72c-.78.78-.78 2.05 0 2.83L4 21.41c.39.39.9.59 1.41.59.51 0 1.02-.2 1.41-.59l7.78-7.78 2.81-2.81c.8-.78.8-2.07 0-2.86zM5.41 20L4 18.59l7.72-7.72 1.47 1.35L5.41 20z\"/>\n",
              "  </svg>\n",
              "      </button>\n",
              "      \n",
              "  <style>\n",
              "    .colab-df-container {\n",
              "      display:flex;\n",
              "      flex-wrap:wrap;\n",
              "      gap: 12px;\n",
              "    }\n",
              "\n",
              "    .colab-df-convert {\n",
              "      background-color: #E8F0FE;\n",
              "      border: none;\n",
              "      border-radius: 50%;\n",
              "      cursor: pointer;\n",
              "      display: none;\n",
              "      fill: #1967D2;\n",
              "      height: 32px;\n",
              "      padding: 0 0 0 0;\n",
              "      width: 32px;\n",
              "    }\n",
              "\n",
              "    .colab-df-convert:hover {\n",
              "      background-color: #E2EBFA;\n",
              "      box-shadow: 0px 1px 2px rgba(60, 64, 67, 0.3), 0px 1px 3px 1px rgba(60, 64, 67, 0.15);\n",
              "      fill: #174EA6;\n",
              "    }\n",
              "\n",
              "    [theme=dark] .colab-df-convert {\n",
              "      background-color: #3B4455;\n",
              "      fill: #D2E3FC;\n",
              "    }\n",
              "\n",
              "    [theme=dark] .colab-df-convert:hover {\n",
              "      background-color: #434B5C;\n",
              "      box-shadow: 0px 1px 3px 1px rgba(0, 0, 0, 0.15);\n",
              "      filter: drop-shadow(0px 1px 2px rgba(0, 0, 0, 0.3));\n",
              "      fill: #FFFFFF;\n",
              "    }\n",
              "  </style>\n",
              "\n",
              "      <script>\n",
              "        const buttonEl =\n",
              "          document.querySelector('#df-277375c3-bcfd-4662-9220-62331f2a2863 button.colab-df-convert');\n",
              "        buttonEl.style.display =\n",
              "          google.colab.kernel.accessAllowed ? 'block' : 'none';\n",
              "\n",
              "        async function convertToInteractive(key) {\n",
              "          const element = document.querySelector('#df-277375c3-bcfd-4662-9220-62331f2a2863');\n",
              "          const dataTable =\n",
              "            await google.colab.kernel.invokeFunction('convertToInteractive',\n",
              "                                                     [key], {});\n",
              "          if (!dataTable) return;\n",
              "\n",
              "          const docLinkHtml = 'Like what you see? Visit the ' +\n",
              "            '<a target=\"_blank\" href=https://colab.research.google.com/notebooks/data_table.ipynb>data table notebook</a>'\n",
              "            + ' to learn more about interactive tables.';\n",
              "          element.innerHTML = '';\n",
              "          dataTable['output_type'] = 'display_data';\n",
              "          await google.colab.output.renderOutput(dataTable, element);\n",
              "          const docLink = document.createElement('div');\n",
              "          docLink.innerHTML = docLinkHtml;\n",
              "          element.appendChild(docLink);\n",
              "        }\n",
              "      </script>\n",
              "    </div>\n",
              "  </div>\n",
              "  "
            ]
          },
          "metadata": {},
          "execution_count": 4
        }
      ]
    },
    {
      "cell_type": "code",
      "source": [],
      "metadata": {
        "id": "73xDe85URm6C"
      },
      "execution_count": null,
      "outputs": []
    }
  ]
}