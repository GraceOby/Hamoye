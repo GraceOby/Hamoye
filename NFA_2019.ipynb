{
  "nbformat": 4,
  "nbformat_minor": 0,
  "metadata": {
    "colab": {
      "provenance": [],
      "mount_file_id": "1nZsC8LuOYtdsKUVxXGnvETTvbTtazv_x",
      "authorship_tag": "ABX9TyN8Bf51ExbDXUc6si139Fld",
      "include_colab_link": true
    },
    "kernelspec": {
      "name": "python3",
      "display_name": "Python 3"
    },
    "language_info": {
      "name": "python"
    }
  },
  "cells": [
    {
      "cell_type": "markdown",
      "metadata": {
        "id": "view-in-github",
        "colab_type": "text"
      },
      "source": [
        "<a href=\"https://colab.research.google.com/github/GraceOby/Hamoye/blob/main/NFA_2019.ipynb\" target=\"_parent\"><img src=\"https://colab.research.google.com/assets/colab-badge.svg\" alt=\"Open In Colab\"/></a>"
      ]
    },
    {
      "cell_type": "code",
      "source": [
        "import pandas as pd\n",
        "import numpy as np\n",
        "import matplotlib.pyplot as plt\n",
        "import seaborn as seaborn\n",
        "%matplotlib inline"
      ],
      "metadata": {
        "id": "oRiAOM8MkAe9"
      },
      "execution_count": 3,
      "outputs": []
    },
    {
      "cell_type": "code",
      "source": [
        "df = pd.read_csv(\"/content/drive/MyDrive/HAMOYE-Internship/NFA 2019 public_data.csv\")\n",
        "df.head()"
      ],
      "metadata": {
        "colab": {
          "base_uri": "https://localhost:8080/",
          "height": 307
        },
        "id": "nR9gjIxCkAxC",
        "outputId": "3aeff83b-3c9e-4e8b-cd23-89ccdca7a5dd"
      },
      "execution_count": 4,
      "outputs": [
        {
          "output_type": "stream",
          "name": "stderr",
          "text": [
            "/usr/local/lib/python3.8/dist-packages/IPython/core/interactiveshell.py:3326: DtypeWarning: Columns (6) have mixed types.Specify dtype option on import or set low_memory=False.\n",
            "  exec(code_obj, self.user_global_ns, self.user_ns)\n"
          ]
        },
        {
          "output_type": "execute_result",
          "data": {
            "text/plain": [
              "   country  year  country_code        record      crop_land   grazing_land  \\\n",
              "0  Armenia  1992             1    AreaPerCap       0.140292       0.199546   \n",
              "1  Armenia  1992             1     AreaTotHA  483000.000000  687000.000000   \n",
              "2  Armenia  1992             1  BiocapPerCap       0.159804       0.135261   \n",
              "3  Armenia  1992             1  BiocapTotGHA  550176.242700  465677.972200   \n",
              "4  Armenia  1992             1  EFConsPerCap       0.387510       0.189462   \n",
              "\n",
              "   forest_land  fishing_ground  built_up_land    carbon         total QScore  \n",
              "0  0.097188051        0.036888       0.029320  0.000000  5.032351e-01     3A  \n",
              "1       334600   127000.000000  100943.000800  0.000000  1.732543e+06     3A  \n",
              "2  0.084003213        0.013742       0.033398  0.000000  4.262086e-01     3A  \n",
              "3  289207.1078    47311.551720  114982.279300  0.000000  1.467355e+06     3A  \n",
              "4     1.26E-06        0.004165       0.033398  1.114093  1.728629e+00     3A  "
            ],
            "text/html": [
              "\n",
              "  <div id=\"df-f771359f-f6ae-4874-af51-7444fe7a708d\">\n",
              "    <div class=\"colab-df-container\">\n",
              "      <div>\n",
              "<style scoped>\n",
              "    .dataframe tbody tr th:only-of-type {\n",
              "        vertical-align: middle;\n",
              "    }\n",
              "\n",
              "    .dataframe tbody tr th {\n",
              "        vertical-align: top;\n",
              "    }\n",
              "\n",
              "    .dataframe thead th {\n",
              "        text-align: right;\n",
              "    }\n",
              "</style>\n",
              "<table border=\"1\" class=\"dataframe\">\n",
              "  <thead>\n",
              "    <tr style=\"text-align: right;\">\n",
              "      <th></th>\n",
              "      <th>country</th>\n",
              "      <th>year</th>\n",
              "      <th>country_code</th>\n",
              "      <th>record</th>\n",
              "      <th>crop_land</th>\n",
              "      <th>grazing_land</th>\n",
              "      <th>forest_land</th>\n",
              "      <th>fishing_ground</th>\n",
              "      <th>built_up_land</th>\n",
              "      <th>carbon</th>\n",
              "      <th>total</th>\n",
              "      <th>QScore</th>\n",
              "    </tr>\n",
              "  </thead>\n",
              "  <tbody>\n",
              "    <tr>\n",
              "      <th>0</th>\n",
              "      <td>Armenia</td>\n",
              "      <td>1992</td>\n",
              "      <td>1</td>\n",
              "      <td>AreaPerCap</td>\n",
              "      <td>0.140292</td>\n",
              "      <td>0.199546</td>\n",
              "      <td>0.097188051</td>\n",
              "      <td>0.036888</td>\n",
              "      <td>0.029320</td>\n",
              "      <td>0.000000</td>\n",
              "      <td>5.032351e-01</td>\n",
              "      <td>3A</td>\n",
              "    </tr>\n",
              "    <tr>\n",
              "      <th>1</th>\n",
              "      <td>Armenia</td>\n",
              "      <td>1992</td>\n",
              "      <td>1</td>\n",
              "      <td>AreaTotHA</td>\n",
              "      <td>483000.000000</td>\n",
              "      <td>687000.000000</td>\n",
              "      <td>334600</td>\n",
              "      <td>127000.000000</td>\n",
              "      <td>100943.000800</td>\n",
              "      <td>0.000000</td>\n",
              "      <td>1.732543e+06</td>\n",
              "      <td>3A</td>\n",
              "    </tr>\n",
              "    <tr>\n",
              "      <th>2</th>\n",
              "      <td>Armenia</td>\n",
              "      <td>1992</td>\n",
              "      <td>1</td>\n",
              "      <td>BiocapPerCap</td>\n",
              "      <td>0.159804</td>\n",
              "      <td>0.135261</td>\n",
              "      <td>0.084003213</td>\n",
              "      <td>0.013742</td>\n",
              "      <td>0.033398</td>\n",
              "      <td>0.000000</td>\n",
              "      <td>4.262086e-01</td>\n",
              "      <td>3A</td>\n",
              "    </tr>\n",
              "    <tr>\n",
              "      <th>3</th>\n",
              "      <td>Armenia</td>\n",
              "      <td>1992</td>\n",
              "      <td>1</td>\n",
              "      <td>BiocapTotGHA</td>\n",
              "      <td>550176.242700</td>\n",
              "      <td>465677.972200</td>\n",
              "      <td>289207.1078</td>\n",
              "      <td>47311.551720</td>\n",
              "      <td>114982.279300</td>\n",
              "      <td>0.000000</td>\n",
              "      <td>1.467355e+06</td>\n",
              "      <td>3A</td>\n",
              "    </tr>\n",
              "    <tr>\n",
              "      <th>4</th>\n",
              "      <td>Armenia</td>\n",
              "      <td>1992</td>\n",
              "      <td>1</td>\n",
              "      <td>EFConsPerCap</td>\n",
              "      <td>0.387510</td>\n",
              "      <td>0.189462</td>\n",
              "      <td>1.26E-06</td>\n",
              "      <td>0.004165</td>\n",
              "      <td>0.033398</td>\n",
              "      <td>1.114093</td>\n",
              "      <td>1.728629e+00</td>\n",
              "      <td>3A</td>\n",
              "    </tr>\n",
              "  </tbody>\n",
              "</table>\n",
              "</div>\n",
              "      <button class=\"colab-df-convert\" onclick=\"convertToInteractive('df-f771359f-f6ae-4874-af51-7444fe7a708d')\"\n",
              "              title=\"Convert this dataframe to an interactive table.\"\n",
              "              style=\"display:none;\">\n",
              "        \n",
              "  <svg xmlns=\"http://www.w3.org/2000/svg\" height=\"24px\"viewBox=\"0 0 24 24\"\n",
              "       width=\"24px\">\n",
              "    <path d=\"M0 0h24v24H0V0z\" fill=\"none\"/>\n",
              "    <path d=\"M18.56 5.44l.94 2.06.94-2.06 2.06-.94-2.06-.94-.94-2.06-.94 2.06-2.06.94zm-11 1L8.5 8.5l.94-2.06 2.06-.94-2.06-.94L8.5 2.5l-.94 2.06-2.06.94zm10 10l.94 2.06.94-2.06 2.06-.94-2.06-.94-.94-2.06-.94 2.06-2.06.94z\"/><path d=\"M17.41 7.96l-1.37-1.37c-.4-.4-.92-.59-1.43-.59-.52 0-1.04.2-1.43.59L10.3 9.45l-7.72 7.72c-.78.78-.78 2.05 0 2.83L4 21.41c.39.39.9.59 1.41.59.51 0 1.02-.2 1.41-.59l7.78-7.78 2.81-2.81c.8-.78.8-2.07 0-2.86zM5.41 20L4 18.59l7.72-7.72 1.47 1.35L5.41 20z\"/>\n",
              "  </svg>\n",
              "      </button>\n",
              "      \n",
              "  <style>\n",
              "    .colab-df-container {\n",
              "      display:flex;\n",
              "      flex-wrap:wrap;\n",
              "      gap: 12px;\n",
              "    }\n",
              "\n",
              "    .colab-df-convert {\n",
              "      background-color: #E8F0FE;\n",
              "      border: none;\n",
              "      border-radius: 50%;\n",
              "      cursor: pointer;\n",
              "      display: none;\n",
              "      fill: #1967D2;\n",
              "      height: 32px;\n",
              "      padding: 0 0 0 0;\n",
              "      width: 32px;\n",
              "    }\n",
              "\n",
              "    .colab-df-convert:hover {\n",
              "      background-color: #E2EBFA;\n",
              "      box-shadow: 0px 1px 2px rgba(60, 64, 67, 0.3), 0px 1px 3px 1px rgba(60, 64, 67, 0.15);\n",
              "      fill: #174EA6;\n",
              "    }\n",
              "\n",
              "    [theme=dark] .colab-df-convert {\n",
              "      background-color: #3B4455;\n",
              "      fill: #D2E3FC;\n",
              "    }\n",
              "\n",
              "    [theme=dark] .colab-df-convert:hover {\n",
              "      background-color: #434B5C;\n",
              "      box-shadow: 0px 1px 3px 1px rgba(0, 0, 0, 0.15);\n",
              "      filter: drop-shadow(0px 1px 2px rgba(0, 0, 0, 0.3));\n",
              "      fill: #FFFFFF;\n",
              "    }\n",
              "  </style>\n",
              "\n",
              "      <script>\n",
              "        const buttonEl =\n",
              "          document.querySelector('#df-f771359f-f6ae-4874-af51-7444fe7a708d button.colab-df-convert');\n",
              "        buttonEl.style.display =\n",
              "          google.colab.kernel.accessAllowed ? 'block' : 'none';\n",
              "\n",
              "        async function convertToInteractive(key) {\n",
              "          const element = document.querySelector('#df-f771359f-f6ae-4874-af51-7444fe7a708d');\n",
              "          const dataTable =\n",
              "            await google.colab.kernel.invokeFunction('convertToInteractive',\n",
              "                                                     [key], {});\n",
              "          if (!dataTable) return;\n",
              "\n",
              "          const docLinkHtml = 'Like what you see? Visit the ' +\n",
              "            '<a target=\"_blank\" href=https://colab.research.google.com/notebooks/data_table.ipynb>data table notebook</a>'\n",
              "            + ' to learn more about interactive tables.';\n",
              "          element.innerHTML = '';\n",
              "          dataTable['output_type'] = 'display_data';\n",
              "          await google.colab.output.renderOutput(dataTable, element);\n",
              "          const docLink = document.createElement('div');\n",
              "          docLink.innerHTML = docLinkHtml;\n",
              "          element.appendChild(docLink);\n",
              "        }\n",
              "      </script>\n",
              "    </div>\n",
              "  </div>\n",
              "  "
            ]
          },
          "metadata": {},
          "execution_count": 4
        }
      ]
    },
    {
      "cell_type": "code",
      "source": [
        "df['QScore'].value_counts()"
      ],
      "metadata": {
        "colab": {
          "base_uri": "https://localhost:8080/"
        },
        "id": "Lz8CW_2KkY7o",
        "outputId": "85e71f4a-26bc-4ef2-deff-e2b7bbc49047"
      },
      "execution_count": 5,
      "outputs": [
        {
          "output_type": "execute_result",
          "data": {
            "text/plain": [
              "3A    51481\n",
              "2A    10576\n",
              "2B    10096\n",
              "1A       16\n",
              "1B       16\n",
              "Name: QScore, dtype: int64"
            ]
          },
          "metadata": {},
          "execution_count": 5
        }
      ]
    },
    {
      "cell_type": "code",
      "source": [
        "df.isna().sum()"
      ],
      "metadata": {
        "colab": {
          "base_uri": "https://localhost:8080/"
        },
        "id": "lgW7a3vaka6o",
        "outputId": "629b03f2-79d1-4159-d68c-358f8be76331"
      },
      "execution_count": 6,
      "outputs": [
        {
          "output_type": "execute_result",
          "data": {
            "text/plain": [
              "country               0\n",
              "year                  0\n",
              "country_code          0\n",
              "record                0\n",
              "crop_land         20472\n",
              "grazing_land      20472\n",
              "forest_land       20472\n",
              "fishing_ground    20473\n",
              "built_up_land     20473\n",
              "carbon            20473\n",
              "total                 9\n",
              "QScore                1\n",
              "dtype: int64"
            ]
          },
          "metadata": {},
          "execution_count": 6
        }
      ]
    },
    {
      "cell_type": "code",
      "source": [
        "#for simplicity, we will drop the rows with missing values.\n",
        "df = df.dropna()\n",
        "df.isna().sum()"
      ],
      "metadata": {
        "colab": {
          "base_uri": "https://localhost:8080/"
        },
        "id": "A-gysMg4kedb",
        "outputId": "0f2b13ac-b0c8-4859-e04b-02294fa76b6a"
      },
      "execution_count": 7,
      "outputs": [
        {
          "output_type": "execute_result",
          "data": {
            "text/plain": [
              "country           0\n",
              "year              0\n",
              "country_code      0\n",
              "record            0\n",
              "crop_land         0\n",
              "grazing_land      0\n",
              "forest_land       0\n",
              "fishing_ground    0\n",
              "built_up_land     0\n",
              "carbon            0\n",
              "total             0\n",
              "QScore            0\n",
              "dtype: int64"
            ]
          },
          "metadata": {},
          "execution_count": 7
        }
      ]
    },
    {
      "cell_type": "code",
      "source": [
        "df.QScore.value_counts()"
      ],
      "metadata": {
        "colab": {
          "base_uri": "https://localhost:8080/"
        },
        "id": "l8l4sziAky8i",
        "outputId": "72386efc-666e-4334-82b4-98b4a27732f6"
      },
      "execution_count": 8,
      "outputs": [
        {
          "output_type": "execute_result",
          "data": {
            "text/plain": [
              "3A    51473\n",
              "2A      224\n",
              "1A       16\n",
              "Name: QScore, dtype: int64"
            ]
          },
          "metadata": {},
          "execution_count": 8
        }
      ]
    },
    {
      "cell_type": "markdown",
      "source": [
        "An obvious change in our target variable after removing the missing values is that there are only three classes left\n",
        "\n",
        "And from the distribution of the 3 classes, we can see that there is an obvious imbalance between the classes. \n",
        "\n",
        "There are methods that can be applied to handle this imbalance such as oversampling and undersampling.\n",
        "\n",
        "**Oversampling** involves increasing the number of instances in the class with fewer instances while **undersampling** involves reducing the data points in the class with more instances.\n",
        "\n",
        "For now, we will convert this to a binary classification problem by combining class '2A' and '1A'.\n"
      ],
      "metadata": {
        "id": "MJv_8eFNkuFt"
      }
    },
    {
      "cell_type": "code",
      "source": [
        "df['QScore'] = df['QScore'].replace(['1A'], '2A')"
      ],
      "metadata": {
        "id": "SseaqT0dkma6"
      },
      "execution_count": 9,
      "outputs": []
    },
    {
      "cell_type": "code",
      "source": [
        "df.QScore.value_counts()"
      ],
      "metadata": {
        "colab": {
          "base_uri": "https://localhost:8080/"
        },
        "id": "VHkGvDgUlcDC",
        "outputId": "d22491cf-54f6-4a47-99fe-a9b1a9849d58"
      },
      "execution_count": 10,
      "outputs": [
        {
          "output_type": "execute_result",
          "data": {
            "text/plain": [
              "3A    51473\n",
              "2A      240\n",
              "Name: QScore, dtype: int64"
            ]
          },
          "metadata": {},
          "execution_count": 10
        }
      ]
    },
    {
      "cell_type": "code",
      "source": [
        "df_2A = df[df.QScore=='2A']\n",
        "df_3A = df[df.QScore=='3A'].sample(350)\n",
        "data_df = df_2A.append(df_3A)\n",
        "data_df"
      ],
      "metadata": {
        "colab": {
          "base_uri": "https://localhost:8080/",
          "height": 522
        },
        "id": "mNS5zruoledg",
        "outputId": "939eca1d-19aa-46cd-b735-41be659fb1c2"
      },
      "execution_count": 12,
      "outputs": [
        {
          "output_type": "execute_result",
          "data": {
            "text/plain": [
              "                        country  year  country_code        record  \\\n",
              "1536                    Algeria  2016             4    AreaPerCap   \n",
              "1537                    Algeria  2016             4     AreaTotHA   \n",
              "1538                    Algeria  2016             4  BiocapPerCap   \n",
              "1539                    Algeria  2016             4  BiocapTotGHA   \n",
              "1540                    Algeria  2016             4  EFConsPerCap   \n",
              "...                         ...   ...           ...           ...   \n",
              "45047                 Nicaragua  2014           157  EFConsTotGHA   \n",
              "35253                    Latvia  2010           119  EFConsTotGHA   \n",
              "10982  Central African Republic  2011            37  EFProdPerCap   \n",
              "56706                   Somalia  1994           201    AreaPerCap   \n",
              "70428                   Belgium  1999           255  BiocapPerCap   \n",
              "\n",
              "          crop_land  grazing_land  forest_land  fishing_ground  built_up_land  \\\n",
              "1536   2.072989e-01  8.112722e-01  0.048357265        0.022585   2.998367e-02   \n",
              "1537   8.417600e+06  3.294260e+07      1963600   917100.000000   1.217520e+06   \n",
              "1538   2.021916e-01  2.636077e-01  0.027166736        0.007948   2.924496e-02   \n",
              "1539   8.210214e+06  1.070408e+07  1103135.245   322736.916200   1.187524e+06   \n",
              "1540   6.280528e-01  1.810332e-01  0.162800822        0.014729   2.924496e-02   \n",
              "...             ...           ...          ...             ...            ...   \n",
              "45047  1.444333e+06  1.382903e+06  2518556.669   184295.742900   2.572920e+05   \n",
              "35253  1.222705e+06  2.744511e+05  3867308.723   502607.802300   8.907762e+04   \n",
              "10982  2.959762e-01  5.764949e-01  0.290398199        0.011945   3.546975e-02   \n",
              "56706  1.384503e-01  5.669868e+00  1.051589184        0.762545   5.481906e-02   \n",
              "70428  4.029072e-01  3.833539e-02     0.305701        0.047650   1.792445e-01   \n",
              "\n",
              "             carbon         total QScore  \n",
              "1536   0.000000e+00  1.119497e+00     2A  \n",
              "1537   0.000000e+00  4.545842e+07     2A  \n",
              "1538   0.000000e+00  5.301590e-01     2A  \n",
              "1539   0.000000e+00  2.152769e+07     2A  \n",
              "1540   1.391455e+00  2.407316e+00     2A  \n",
              "...             ...           ...    ...  \n",
              "45047  2.681848e+06  8.469229e+06     3A  \n",
              "35253  3.459863e+06  9.416013e+06     3A  \n",
              "10982  2.215962e-02  1.232444e+00     3A  \n",
              "56706  0.000000e+00  7.677272e+00     3A  \n",
              "70428  0.000000e+00  9.738376e-01     3A  \n",
              "\n",
              "[590 rows x 12 columns]"
            ],
            "text/html": [
              "\n",
              "  <div id=\"df-46a7b4d3-b873-4226-aa90-0a6eeceb93ea\">\n",
              "    <div class=\"colab-df-container\">\n",
              "      <div>\n",
              "<style scoped>\n",
              "    .dataframe tbody tr th:only-of-type {\n",
              "        vertical-align: middle;\n",
              "    }\n",
              "\n",
              "    .dataframe tbody tr th {\n",
              "        vertical-align: top;\n",
              "    }\n",
              "\n",
              "    .dataframe thead th {\n",
              "        text-align: right;\n",
              "    }\n",
              "</style>\n",
              "<table border=\"1\" class=\"dataframe\">\n",
              "  <thead>\n",
              "    <tr style=\"text-align: right;\">\n",
              "      <th></th>\n",
              "      <th>country</th>\n",
              "      <th>year</th>\n",
              "      <th>country_code</th>\n",
              "      <th>record</th>\n",
              "      <th>crop_land</th>\n",
              "      <th>grazing_land</th>\n",
              "      <th>forest_land</th>\n",
              "      <th>fishing_ground</th>\n",
              "      <th>built_up_land</th>\n",
              "      <th>carbon</th>\n",
              "      <th>total</th>\n",
              "      <th>QScore</th>\n",
              "    </tr>\n",
              "  </thead>\n",
              "  <tbody>\n",
              "    <tr>\n",
              "      <th>1536</th>\n",
              "      <td>Algeria</td>\n",
              "      <td>2016</td>\n",
              "      <td>4</td>\n",
              "      <td>AreaPerCap</td>\n",
              "      <td>2.072989e-01</td>\n",
              "      <td>8.112722e-01</td>\n",
              "      <td>0.048357265</td>\n",
              "      <td>0.022585</td>\n",
              "      <td>2.998367e-02</td>\n",
              "      <td>0.000000e+00</td>\n",
              "      <td>1.119497e+00</td>\n",
              "      <td>2A</td>\n",
              "    </tr>\n",
              "    <tr>\n",
              "      <th>1537</th>\n",
              "      <td>Algeria</td>\n",
              "      <td>2016</td>\n",
              "      <td>4</td>\n",
              "      <td>AreaTotHA</td>\n",
              "      <td>8.417600e+06</td>\n",
              "      <td>3.294260e+07</td>\n",
              "      <td>1963600</td>\n",
              "      <td>917100.000000</td>\n",
              "      <td>1.217520e+06</td>\n",
              "      <td>0.000000e+00</td>\n",
              "      <td>4.545842e+07</td>\n",
              "      <td>2A</td>\n",
              "    </tr>\n",
              "    <tr>\n",
              "      <th>1538</th>\n",
              "      <td>Algeria</td>\n",
              "      <td>2016</td>\n",
              "      <td>4</td>\n",
              "      <td>BiocapPerCap</td>\n",
              "      <td>2.021916e-01</td>\n",
              "      <td>2.636077e-01</td>\n",
              "      <td>0.027166736</td>\n",
              "      <td>0.007948</td>\n",
              "      <td>2.924496e-02</td>\n",
              "      <td>0.000000e+00</td>\n",
              "      <td>5.301590e-01</td>\n",
              "      <td>2A</td>\n",
              "    </tr>\n",
              "    <tr>\n",
              "      <th>1539</th>\n",
              "      <td>Algeria</td>\n",
              "      <td>2016</td>\n",
              "      <td>4</td>\n",
              "      <td>BiocapTotGHA</td>\n",
              "      <td>8.210214e+06</td>\n",
              "      <td>1.070408e+07</td>\n",
              "      <td>1103135.245</td>\n",
              "      <td>322736.916200</td>\n",
              "      <td>1.187524e+06</td>\n",
              "      <td>0.000000e+00</td>\n",
              "      <td>2.152769e+07</td>\n",
              "      <td>2A</td>\n",
              "    </tr>\n",
              "    <tr>\n",
              "      <th>1540</th>\n",
              "      <td>Algeria</td>\n",
              "      <td>2016</td>\n",
              "      <td>4</td>\n",
              "      <td>EFConsPerCap</td>\n",
              "      <td>6.280528e-01</td>\n",
              "      <td>1.810332e-01</td>\n",
              "      <td>0.162800822</td>\n",
              "      <td>0.014729</td>\n",
              "      <td>2.924496e-02</td>\n",
              "      <td>1.391455e+00</td>\n",
              "      <td>2.407316e+00</td>\n",
              "      <td>2A</td>\n",
              "    </tr>\n",
              "    <tr>\n",
              "      <th>...</th>\n",
              "      <td>...</td>\n",
              "      <td>...</td>\n",
              "      <td>...</td>\n",
              "      <td>...</td>\n",
              "      <td>...</td>\n",
              "      <td>...</td>\n",
              "      <td>...</td>\n",
              "      <td>...</td>\n",
              "      <td>...</td>\n",
              "      <td>...</td>\n",
              "      <td>...</td>\n",
              "      <td>...</td>\n",
              "    </tr>\n",
              "    <tr>\n",
              "      <th>45047</th>\n",
              "      <td>Nicaragua</td>\n",
              "      <td>2014</td>\n",
              "      <td>157</td>\n",
              "      <td>EFConsTotGHA</td>\n",
              "      <td>1.444333e+06</td>\n",
              "      <td>1.382903e+06</td>\n",
              "      <td>2518556.669</td>\n",
              "      <td>184295.742900</td>\n",
              "      <td>2.572920e+05</td>\n",
              "      <td>2.681848e+06</td>\n",
              "      <td>8.469229e+06</td>\n",
              "      <td>3A</td>\n",
              "    </tr>\n",
              "    <tr>\n",
              "      <th>35253</th>\n",
              "      <td>Latvia</td>\n",
              "      <td>2010</td>\n",
              "      <td>119</td>\n",
              "      <td>EFConsTotGHA</td>\n",
              "      <td>1.222705e+06</td>\n",
              "      <td>2.744511e+05</td>\n",
              "      <td>3867308.723</td>\n",
              "      <td>502607.802300</td>\n",
              "      <td>8.907762e+04</td>\n",
              "      <td>3.459863e+06</td>\n",
              "      <td>9.416013e+06</td>\n",
              "      <td>3A</td>\n",
              "    </tr>\n",
              "    <tr>\n",
              "      <th>10982</th>\n",
              "      <td>Central African Republic</td>\n",
              "      <td>2011</td>\n",
              "      <td>37</td>\n",
              "      <td>EFProdPerCap</td>\n",
              "      <td>2.959762e-01</td>\n",
              "      <td>5.764949e-01</td>\n",
              "      <td>0.290398199</td>\n",
              "      <td>0.011945</td>\n",
              "      <td>3.546975e-02</td>\n",
              "      <td>2.215962e-02</td>\n",
              "      <td>1.232444e+00</td>\n",
              "      <td>3A</td>\n",
              "    </tr>\n",
              "    <tr>\n",
              "      <th>56706</th>\n",
              "      <td>Somalia</td>\n",
              "      <td>1994</td>\n",
              "      <td>201</td>\n",
              "      <td>AreaPerCap</td>\n",
              "      <td>1.384503e-01</td>\n",
              "      <td>5.669868e+00</td>\n",
              "      <td>1.051589184</td>\n",
              "      <td>0.762545</td>\n",
              "      <td>5.481906e-02</td>\n",
              "      <td>0.000000e+00</td>\n",
              "      <td>7.677272e+00</td>\n",
              "      <td>3A</td>\n",
              "    </tr>\n",
              "    <tr>\n",
              "      <th>70428</th>\n",
              "      <td>Belgium</td>\n",
              "      <td>1999</td>\n",
              "      <td>255</td>\n",
              "      <td>BiocapPerCap</td>\n",
              "      <td>4.029072e-01</td>\n",
              "      <td>3.833539e-02</td>\n",
              "      <td>0.305701</td>\n",
              "      <td>0.047650</td>\n",
              "      <td>1.792445e-01</td>\n",
              "      <td>0.000000e+00</td>\n",
              "      <td>9.738376e-01</td>\n",
              "      <td>3A</td>\n",
              "    </tr>\n",
              "  </tbody>\n",
              "</table>\n",
              "<p>590 rows × 12 columns</p>\n",
              "</div>\n",
              "      <button class=\"colab-df-convert\" onclick=\"convertToInteractive('df-46a7b4d3-b873-4226-aa90-0a6eeceb93ea')\"\n",
              "              title=\"Convert this dataframe to an interactive table.\"\n",
              "              style=\"display:none;\">\n",
              "        \n",
              "  <svg xmlns=\"http://www.w3.org/2000/svg\" height=\"24px\"viewBox=\"0 0 24 24\"\n",
              "       width=\"24px\">\n",
              "    <path d=\"M0 0h24v24H0V0z\" fill=\"none\"/>\n",
              "    <path d=\"M18.56 5.44l.94 2.06.94-2.06 2.06-.94-2.06-.94-.94-2.06-.94 2.06-2.06.94zm-11 1L8.5 8.5l.94-2.06 2.06-.94-2.06-.94L8.5 2.5l-.94 2.06-2.06.94zm10 10l.94 2.06.94-2.06 2.06-.94-2.06-.94-.94-2.06-.94 2.06-2.06.94z\"/><path d=\"M17.41 7.96l-1.37-1.37c-.4-.4-.92-.59-1.43-.59-.52 0-1.04.2-1.43.59L10.3 9.45l-7.72 7.72c-.78.78-.78 2.05 0 2.83L4 21.41c.39.39.9.59 1.41.59.51 0 1.02-.2 1.41-.59l7.78-7.78 2.81-2.81c.8-.78.8-2.07 0-2.86zM5.41 20L4 18.59l7.72-7.72 1.47 1.35L5.41 20z\"/>\n",
              "  </svg>\n",
              "      </button>\n",
              "      \n",
              "  <style>\n",
              "    .colab-df-container {\n",
              "      display:flex;\n",
              "      flex-wrap:wrap;\n",
              "      gap: 12px;\n",
              "    }\n",
              "\n",
              "    .colab-df-convert {\n",
              "      background-color: #E8F0FE;\n",
              "      border: none;\n",
              "      border-radius: 50%;\n",
              "      cursor: pointer;\n",
              "      display: none;\n",
              "      fill: #1967D2;\n",
              "      height: 32px;\n",
              "      padding: 0 0 0 0;\n",
              "      width: 32px;\n",
              "    }\n",
              "\n",
              "    .colab-df-convert:hover {\n",
              "      background-color: #E2EBFA;\n",
              "      box-shadow: 0px 1px 2px rgba(60, 64, 67, 0.3), 0px 1px 3px 1px rgba(60, 64, 67, 0.15);\n",
              "      fill: #174EA6;\n",
              "    }\n",
              "\n",
              "    [theme=dark] .colab-df-convert {\n",
              "      background-color: #3B4455;\n",
              "      fill: #D2E3FC;\n",
              "    }\n",
              "\n",
              "    [theme=dark] .colab-df-convert:hover {\n",
              "      background-color: #434B5C;\n",
              "      box-shadow: 0px 1px 3px 1px rgba(0, 0, 0, 0.15);\n",
              "      filter: drop-shadow(0px 1px 2px rgba(0, 0, 0, 0.3));\n",
              "      fill: #FFFFFF;\n",
              "    }\n",
              "  </style>\n",
              "\n",
              "      <script>\n",
              "        const buttonEl =\n",
              "          document.querySelector('#df-46a7b4d3-b873-4226-aa90-0a6eeceb93ea button.colab-df-convert');\n",
              "        buttonEl.style.display =\n",
              "          google.colab.kernel.accessAllowed ? 'block' : 'none';\n",
              "\n",
              "        async function convertToInteractive(key) {\n",
              "          const element = document.querySelector('#df-46a7b4d3-b873-4226-aa90-0a6eeceb93ea');\n",
              "          const dataTable =\n",
              "            await google.colab.kernel.invokeFunction('convertToInteractive',\n",
              "                                                     [key], {});\n",
              "          if (!dataTable) return;\n",
              "\n",
              "          const docLinkHtml = 'Like what you see? Visit the ' +\n",
              "            '<a target=\"_blank\" href=https://colab.research.google.com/notebooks/data_table.ipynb>data table notebook</a>'\n",
              "            + ' to learn more about interactive tables.';\n",
              "          element.innerHTML = '';\n",
              "          dataTable['output_type'] = 'display_data';\n",
              "          await google.colab.output.renderOutput(dataTable, element);\n",
              "          const docLink = document.createElement('div');\n",
              "          docLink.innerHTML = docLinkHtml;\n",
              "          element.appendChild(docLink);\n",
              "        }\n",
              "      </script>\n",
              "    </div>\n",
              "  </div>\n",
              "  "
            ]
          },
          "metadata": {},
          "execution_count": 12
        }
      ]
    },
    {
      "cell_type": "code",
      "source": [
        "import sklearn.utils\n",
        "data_df = sklearn.utils.shuffle(data_df)\n",
        "data_df = data_df.reset_index(drop=True)\n",
        "data_df"
      ],
      "metadata": {
        "colab": {
          "base_uri": "https://localhost:8080/",
          "height": 557
        },
        "id": "CyrO5dBPlrxT",
        "outputId": "6a58cdf0-bd20-4423-c0ac-6a8c7b9a3467"
      },
      "execution_count": 13,
      "outputs": [
        {
          "output_type": "execute_result",
          "data": {
            "text/plain": [
              "                      country  year  country_code        record     crop_land  \\\n",
              "0    Central African Republic  1999            37  EFConsTotGHA  1.242950e+06   \n",
              "1                Saudi Arabia  1996           194  BiocapPerCap  1.597432e-01   \n",
              "2           Equatorial Guinea  2016            61  EFConsTotGHA  2.582201e+05   \n",
              "3                       Niger  1986           158    AreaPerCap  1.374225e+00   \n",
              "4                        Cuba  1986            49     AreaTotHA  3.529959e+06   \n",
              "..                        ...   ...           ...           ...           ...   \n",
              "585                  Colombia  2012            44  EFProdPerCap  2.386221e-01   \n",
              "586                  Botswana  1968            20  EFConsPerCap  2.720933e-01   \n",
              "587                    Jordan  1962           112  EFConsTotGHA  5.885774e+05   \n",
              "588                   Hungary  2016            97  BiocapTotGHA  1.497653e+07   \n",
              "589                   Algeria  2016             4     AreaTotHA  8.417600e+06   \n",
              "\n",
              "     grazing_land  forest_land  fishing_ground  built_up_land        carbon  \\\n",
              "0    2.466792e+06  1251178.972    2.844809e+04   1.146461e+05  1.412428e+05   \n",
              "1    1.557559e-01  0.098248112    2.683977e-01   5.009375e-02  0.000000e+00   \n",
              "2    3.273894e+04  202042.0339    1.099109e+05   2.745631e+04  1.661044e+06   \n",
              "3    3.021046e+00  0.266685483    4.215413e-03   3.937294e-02  0.000000e+00   \n",
              "4    2.921041e+06  2451704.348    5.737800e+06   3.036550e+05  0.000000e+00   \n",
              "..            ...          ...             ...            ...           ...   \n",
              "585  5.942000e-01  0.136703634    2.431476e-02   9.181179e-02  5.178507e-01   \n",
              "586  1.572010e+00  0.419427532    1.627427e-02   1.244364e-02  3.328629e-01   \n",
              "587  2.413514e+05  78573.24713    4.739105e+04   4.456428e+04  4.405403e+05   \n",
              "588  6.165292e+05  6860071.071    4.741962e+04   1.559617e+06  0.000000e+00   \n",
              "589  3.294260e+07      1963600    9.171000e+05   1.217520e+06  0.000000e+00   \n",
              "\n",
              "            total QScore  \n",
              "0    5.245257e+06     3A  \n",
              "1    7.322387e-01     3A  \n",
              "2    2.291412e+06     2A  \n",
              "3    4.705545e+00     3A  \n",
              "4    1.494416e+07     3A  \n",
              "..            ...    ...  \n",
              "585  1.603503e+00     3A  \n",
              "586  2.625112e+00     3A  \n",
              "587  1.440998e+06     3A  \n",
              "588  2.406017e+07     2A  \n",
              "589  4.545842e+07     2A  \n",
              "\n",
              "[590 rows x 12 columns]"
            ],
            "text/html": [
              "\n",
              "  <div id=\"df-11ae87aa-e2bd-4a95-983e-a3e299845f56\">\n",
              "    <div class=\"colab-df-container\">\n",
              "      <div>\n",
              "<style scoped>\n",
              "    .dataframe tbody tr th:only-of-type {\n",
              "        vertical-align: middle;\n",
              "    }\n",
              "\n",
              "    .dataframe tbody tr th {\n",
              "        vertical-align: top;\n",
              "    }\n",
              "\n",
              "    .dataframe thead th {\n",
              "        text-align: right;\n",
              "    }\n",
              "</style>\n",
              "<table border=\"1\" class=\"dataframe\">\n",
              "  <thead>\n",
              "    <tr style=\"text-align: right;\">\n",
              "      <th></th>\n",
              "      <th>country</th>\n",
              "      <th>year</th>\n",
              "      <th>country_code</th>\n",
              "      <th>record</th>\n",
              "      <th>crop_land</th>\n",
              "      <th>grazing_land</th>\n",
              "      <th>forest_land</th>\n",
              "      <th>fishing_ground</th>\n",
              "      <th>built_up_land</th>\n",
              "      <th>carbon</th>\n",
              "      <th>total</th>\n",
              "      <th>QScore</th>\n",
              "    </tr>\n",
              "  </thead>\n",
              "  <tbody>\n",
              "    <tr>\n",
              "      <th>0</th>\n",
              "      <td>Central African Republic</td>\n",
              "      <td>1999</td>\n",
              "      <td>37</td>\n",
              "      <td>EFConsTotGHA</td>\n",
              "      <td>1.242950e+06</td>\n",
              "      <td>2.466792e+06</td>\n",
              "      <td>1251178.972</td>\n",
              "      <td>2.844809e+04</td>\n",
              "      <td>1.146461e+05</td>\n",
              "      <td>1.412428e+05</td>\n",
              "      <td>5.245257e+06</td>\n",
              "      <td>3A</td>\n",
              "    </tr>\n",
              "    <tr>\n",
              "      <th>1</th>\n",
              "      <td>Saudi Arabia</td>\n",
              "      <td>1996</td>\n",
              "      <td>194</td>\n",
              "      <td>BiocapPerCap</td>\n",
              "      <td>1.597432e-01</td>\n",
              "      <td>1.557559e-01</td>\n",
              "      <td>0.098248112</td>\n",
              "      <td>2.683977e-01</td>\n",
              "      <td>5.009375e-02</td>\n",
              "      <td>0.000000e+00</td>\n",
              "      <td>7.322387e-01</td>\n",
              "      <td>3A</td>\n",
              "    </tr>\n",
              "    <tr>\n",
              "      <th>2</th>\n",
              "      <td>Equatorial Guinea</td>\n",
              "      <td>2016</td>\n",
              "      <td>61</td>\n",
              "      <td>EFConsTotGHA</td>\n",
              "      <td>2.582201e+05</td>\n",
              "      <td>3.273894e+04</td>\n",
              "      <td>202042.0339</td>\n",
              "      <td>1.099109e+05</td>\n",
              "      <td>2.745631e+04</td>\n",
              "      <td>1.661044e+06</td>\n",
              "      <td>2.291412e+06</td>\n",
              "      <td>2A</td>\n",
              "    </tr>\n",
              "    <tr>\n",
              "      <th>3</th>\n",
              "      <td>Niger</td>\n",
              "      <td>1986</td>\n",
              "      <td>158</td>\n",
              "      <td>AreaPerCap</td>\n",
              "      <td>1.374225e+00</td>\n",
              "      <td>3.021046e+00</td>\n",
              "      <td>0.266685483</td>\n",
              "      <td>4.215413e-03</td>\n",
              "      <td>3.937294e-02</td>\n",
              "      <td>0.000000e+00</td>\n",
              "      <td>4.705545e+00</td>\n",
              "      <td>3A</td>\n",
              "    </tr>\n",
              "    <tr>\n",
              "      <th>4</th>\n",
              "      <td>Cuba</td>\n",
              "      <td>1986</td>\n",
              "      <td>49</td>\n",
              "      <td>AreaTotHA</td>\n",
              "      <td>3.529959e+06</td>\n",
              "      <td>2.921041e+06</td>\n",
              "      <td>2451704.348</td>\n",
              "      <td>5.737800e+06</td>\n",
              "      <td>3.036550e+05</td>\n",
              "      <td>0.000000e+00</td>\n",
              "      <td>1.494416e+07</td>\n",
              "      <td>3A</td>\n",
              "    </tr>\n",
              "    <tr>\n",
              "      <th>...</th>\n",
              "      <td>...</td>\n",
              "      <td>...</td>\n",
              "      <td>...</td>\n",
              "      <td>...</td>\n",
              "      <td>...</td>\n",
              "      <td>...</td>\n",
              "      <td>...</td>\n",
              "      <td>...</td>\n",
              "      <td>...</td>\n",
              "      <td>...</td>\n",
              "      <td>...</td>\n",
              "      <td>...</td>\n",
              "    </tr>\n",
              "    <tr>\n",
              "      <th>585</th>\n",
              "      <td>Colombia</td>\n",
              "      <td>2012</td>\n",
              "      <td>44</td>\n",
              "      <td>EFProdPerCap</td>\n",
              "      <td>2.386221e-01</td>\n",
              "      <td>5.942000e-01</td>\n",
              "      <td>0.136703634</td>\n",
              "      <td>2.431476e-02</td>\n",
              "      <td>9.181179e-02</td>\n",
              "      <td>5.178507e-01</td>\n",
              "      <td>1.603503e+00</td>\n",
              "      <td>3A</td>\n",
              "    </tr>\n",
              "    <tr>\n",
              "      <th>586</th>\n",
              "      <td>Botswana</td>\n",
              "      <td>1968</td>\n",
              "      <td>20</td>\n",
              "      <td>EFConsPerCap</td>\n",
              "      <td>2.720933e-01</td>\n",
              "      <td>1.572010e+00</td>\n",
              "      <td>0.419427532</td>\n",
              "      <td>1.627427e-02</td>\n",
              "      <td>1.244364e-02</td>\n",
              "      <td>3.328629e-01</td>\n",
              "      <td>2.625112e+00</td>\n",
              "      <td>3A</td>\n",
              "    </tr>\n",
              "    <tr>\n",
              "      <th>587</th>\n",
              "      <td>Jordan</td>\n",
              "      <td>1962</td>\n",
              "      <td>112</td>\n",
              "      <td>EFConsTotGHA</td>\n",
              "      <td>5.885774e+05</td>\n",
              "      <td>2.413514e+05</td>\n",
              "      <td>78573.24713</td>\n",
              "      <td>4.739105e+04</td>\n",
              "      <td>4.456428e+04</td>\n",
              "      <td>4.405403e+05</td>\n",
              "      <td>1.440998e+06</td>\n",
              "      <td>3A</td>\n",
              "    </tr>\n",
              "    <tr>\n",
              "      <th>588</th>\n",
              "      <td>Hungary</td>\n",
              "      <td>2016</td>\n",
              "      <td>97</td>\n",
              "      <td>BiocapTotGHA</td>\n",
              "      <td>1.497653e+07</td>\n",
              "      <td>6.165292e+05</td>\n",
              "      <td>6860071.071</td>\n",
              "      <td>4.741962e+04</td>\n",
              "      <td>1.559617e+06</td>\n",
              "      <td>0.000000e+00</td>\n",
              "      <td>2.406017e+07</td>\n",
              "      <td>2A</td>\n",
              "    </tr>\n",
              "    <tr>\n",
              "      <th>589</th>\n",
              "      <td>Algeria</td>\n",
              "      <td>2016</td>\n",
              "      <td>4</td>\n",
              "      <td>AreaTotHA</td>\n",
              "      <td>8.417600e+06</td>\n",
              "      <td>3.294260e+07</td>\n",
              "      <td>1963600</td>\n",
              "      <td>9.171000e+05</td>\n",
              "      <td>1.217520e+06</td>\n",
              "      <td>0.000000e+00</td>\n",
              "      <td>4.545842e+07</td>\n",
              "      <td>2A</td>\n",
              "    </tr>\n",
              "  </tbody>\n",
              "</table>\n",
              "<p>590 rows × 12 columns</p>\n",
              "</div>\n",
              "      <button class=\"colab-df-convert\" onclick=\"convertToInteractive('df-11ae87aa-e2bd-4a95-983e-a3e299845f56')\"\n",
              "              title=\"Convert this dataframe to an interactive table.\"\n",
              "              style=\"display:none;\">\n",
              "        \n",
              "  <svg xmlns=\"http://www.w3.org/2000/svg\" height=\"24px\"viewBox=\"0 0 24 24\"\n",
              "       width=\"24px\">\n",
              "    <path d=\"M0 0h24v24H0V0z\" fill=\"none\"/>\n",
              "    <path d=\"M18.56 5.44l.94 2.06.94-2.06 2.06-.94-2.06-.94-.94-2.06-.94 2.06-2.06.94zm-11 1L8.5 8.5l.94-2.06 2.06-.94-2.06-.94L8.5 2.5l-.94 2.06-2.06.94zm10 10l.94 2.06.94-2.06 2.06-.94-2.06-.94-.94-2.06-.94 2.06-2.06.94z\"/><path d=\"M17.41 7.96l-1.37-1.37c-.4-.4-.92-.59-1.43-.59-.52 0-1.04.2-1.43.59L10.3 9.45l-7.72 7.72c-.78.78-.78 2.05 0 2.83L4 21.41c.39.39.9.59 1.41.59.51 0 1.02-.2 1.41-.59l7.78-7.78 2.81-2.81c.8-.78.8-2.07 0-2.86zM5.41 20L4 18.59l7.72-7.72 1.47 1.35L5.41 20z\"/>\n",
              "  </svg>\n",
              "      </button>\n",
              "      \n",
              "  <style>\n",
              "    .colab-df-container {\n",
              "      display:flex;\n",
              "      flex-wrap:wrap;\n",
              "      gap: 12px;\n",
              "    }\n",
              "\n",
              "    .colab-df-convert {\n",
              "      background-color: #E8F0FE;\n",
              "      border: none;\n",
              "      border-radius: 50%;\n",
              "      cursor: pointer;\n",
              "      display: none;\n",
              "      fill: #1967D2;\n",
              "      height: 32px;\n",
              "      padding: 0 0 0 0;\n",
              "      width: 32px;\n",
              "    }\n",
              "\n",
              "    .colab-df-convert:hover {\n",
              "      background-color: #E2EBFA;\n",
              "      box-shadow: 0px 1px 2px rgba(60, 64, 67, 0.3), 0px 1px 3px 1px rgba(60, 64, 67, 0.15);\n",
              "      fill: #174EA6;\n",
              "    }\n",
              "\n",
              "    [theme=dark] .colab-df-convert {\n",
              "      background-color: #3B4455;\n",
              "      fill: #D2E3FC;\n",
              "    }\n",
              "\n",
              "    [theme=dark] .colab-df-convert:hover {\n",
              "      background-color: #434B5C;\n",
              "      box-shadow: 0px 1px 3px 1px rgba(0, 0, 0, 0.15);\n",
              "      filter: drop-shadow(0px 1px 2px rgba(0, 0, 0, 0.3));\n",
              "      fill: #FFFFFF;\n",
              "    }\n",
              "  </style>\n",
              "\n",
              "      <script>\n",
              "        const buttonEl =\n",
              "          document.querySelector('#df-11ae87aa-e2bd-4a95-983e-a3e299845f56 button.colab-df-convert');\n",
              "        buttonEl.style.display =\n",
              "          google.colab.kernel.accessAllowed ? 'block' : 'none';\n",
              "\n",
              "        async function convertToInteractive(key) {\n",
              "          const element = document.querySelector('#df-11ae87aa-e2bd-4a95-983e-a3e299845f56');\n",
              "          const dataTable =\n",
              "            await google.colab.kernel.invokeFunction('convertToInteractive',\n",
              "                                                     [key], {});\n",
              "          if (!dataTable) return;\n",
              "\n",
              "          const docLinkHtml = 'Like what you see? Visit the ' +\n",
              "            '<a target=\"_blank\" href=https://colab.research.google.com/notebooks/data_table.ipynb>data table notebook</a>'\n",
              "            + ' to learn more about interactive tables.';\n",
              "          element.innerHTML = '';\n",
              "          dataTable['output_type'] = 'display_data';\n",
              "          await google.colab.output.renderOutput(dataTable, element);\n",
              "          const docLink = document.createElement('div');\n",
              "          docLink.innerHTML = docLinkHtml;\n",
              "          element.appendChild(docLink);\n",
              "        }\n",
              "      </script>\n",
              "    </div>\n",
              "  </div>\n",
              "  "
            ]
          },
          "metadata": {},
          "execution_count": 13
        }
      ]
    },
    {
      "cell_type": "code",
      "source": [
        "data_df.shape\n"
      ],
      "metadata": {
        "colab": {
          "base_uri": "https://localhost:8080/"
        },
        "id": "4_c4FpQxmFWm",
        "outputId": "a25e2ab8-9fe3-4baf-a44b-c2f8dfc0d8a9"
      },
      "execution_count": 14,
      "outputs": [
        {
          "output_type": "execute_result",
          "data": {
            "text/plain": [
              "(590, 12)"
            ]
          },
          "metadata": {},
          "execution_count": 14
        }
      ]
    },
    {
      "cell_type": "code",
      "source": [
        "data_df.QScore.value_counts()"
      ],
      "metadata": {
        "colab": {
          "base_uri": "https://localhost:8080/"
        },
        "id": "GeUdL3sHmMkD",
        "outputId": "24841c2d-c744-4e4c-d451-d755208e8f91"
      },
      "execution_count": 15,
      "outputs": [
        {
          "output_type": "execute_result",
          "data": {
            "text/plain": [
              "3A    350\n",
              "2A    240\n",
              "Name: QScore, dtype: int64"
            ]
          },
          "metadata": {},
          "execution_count": 15
        }
      ]
    },
    {
      "cell_type": "code",
      "source": [
        "#more preprocessing\n",
        "data_df = data_df.drop(columns=['country_code', 'country', 'year'])\n",
        "X = data_df.drop(columns='QScore')\n",
        "y = data_df['QScore']"
      ],
      "metadata": {
        "id": "Z_S8dWEbmOAx"
      },
      "execution_count": 16,
      "outputs": []
    },
    {
      "cell_type": "code",
      "source": [
        "#split the data into training and testing sets\n",
        "from sklearn.model_selection import train_test_split\n",
        "x_train, x_test, y_train, y_test = train_test_split(X, y, test_size=0.3, random_state=0)"
      ],
      "metadata": {
        "id": "cmbLdz6Tmqt7"
      },
      "execution_count": 17,
      "outputs": []
    },
    {
      "cell_type": "code",
      "source": [
        "y_train.value_counts()"
      ],
      "metadata": {
        "colab": {
          "base_uri": "https://localhost:8080/"
        },
        "id": "zVSTDGF9nB6l",
        "outputId": "dae533e8-1c82-4485-8b45-a7003c2447bf"
      },
      "execution_count": 18,
      "outputs": [
        {
          "output_type": "execute_result",
          "data": {
            "text/plain": [
              "3A    244\n",
              "2A    169\n",
              "Name: QScore, dtype: int64"
            ]
          },
          "metadata": {},
          "execution_count": 18
        }
      ]
    },
    {
      "cell_type": "markdown",
      "source": [
        "There is still an imbalance in the class distribution. For this, we use SMOTE only on the training data to handle this."
      ],
      "metadata": {
        "id": "z96lubGsnNVg"
      }
    },
    {
      "cell_type": "code",
      "source": [
        "#encode categorical variable\n",
        "from sklearn.preprocessing import LabelEncoder\n",
        "encoder = LabelEncoder()\n",
        "x_train.record = encoder.fit_transform(x_train.record)\n",
        "x_test.record = encoder.transform(x_test.record)"
      ],
      "metadata": {
        "id": "eGgsyBUmnFVy"
      },
      "execution_count": 19,
      "outputs": []
    },
    {
      "cell_type": "code",
      "source": [
        "import imblearn\n",
        "from imblearn.over_sampling import SMOTE\n",
        "smote = SMOTE(random_state=1)\n",
        "x_train_balanced, y_balanced = smote.fit_resample(x_train, y_train)"
      ],
      "metadata": {
        "id": "RK3aEGQnniHz"
      },
      "execution_count": 21,
      "outputs": []
    },
    {
      "cell_type": "code",
      "source": [
        "y_balanced.value_counts()"
      ],
      "metadata": {
        "colab": {
          "base_uri": "https://localhost:8080/"
        },
        "id": "2jbPht8on56v",
        "outputId": "e6143c4b-f83e-40ab-d267-6dc8fde3841f"
      },
      "execution_count": 22,
      "outputs": [
        {
          "output_type": "execute_result",
          "data": {
            "text/plain": [
              "3A    244\n",
              "2A    244\n",
              "Name: QScore, dtype: int64"
            ]
          },
          "metadata": {},
          "execution_count": 22
        }
      ]
    },
    {
      "cell_type": "code",
      "source": [
        "x_train.shape, x_train_balanced.shape"
      ],
      "metadata": {
        "colab": {
          "base_uri": "https://localhost:8080/"
        },
        "id": "la-HCIixoaJO",
        "outputId": "0d5fd3f2-3258-4926-8d9d-0fb6270ed153"
      },
      "execution_count": 24,
      "outputs": [
        {
          "output_type": "execute_result",
          "data": {
            "text/plain": [
              "((413, 8), (488, 8))"
            ]
          },
          "metadata": {},
          "execution_count": 24
        }
      ]
    },
    {
      "cell_type": "code",
      "source": [
        "#Next we scale\n",
        "from sklearn.preprocessing import MinMaxScaler\n",
        "scaler = MinMaxScaler()\n",
        "normalised_train_df = scaler.fit_transform(x_train_balanced.drop(columns=['record']))\n",
        "normalised_train_df = pd.DataFrame(normalised_train_df, columns=x_train_balanced.drop(columns=['record']).columns)\n",
        "normalised_train_df['record'] = x_train_balanced['record']\n"
      ],
      "metadata": {
        "id": "9q7uXvPxohb5"
      },
      "execution_count": 25,
      "outputs": []
    },
    {
      "cell_type": "code",
      "source": [
        "x_test = x_test.reset_index(drop=True)\n",
        "normalised_test_df = scaler.transform(x_test.drop(columns=['record']))\n",
        "normalised_test_df = pd.DataFrame(normalised_test_df, columns=x_test.drop(columns=['record']).columns)\n",
        "normalised_test_df['record'] = x_test['record']"
      ],
      "metadata": {
        "id": "bmOtW9hwpTNj"
      },
      "execution_count": 26,
      "outputs": []
    },
    {
      "cell_type": "code",
      "source": [
        "#Logistic Regression\n",
        "from sklearn.linear_model import LogisticRegression\n",
        "log_reg = LogisticRegression()\n",
        "log_reg.fit(normalised_train_df, y_balanced)"
      ],
      "metadata": {
        "colab": {
          "base_uri": "https://localhost:8080/"
        },
        "id": "aYX0YsJspfz2",
        "outputId": "7521cbc2-d133-460a-ea0b-a8f67f1239b9"
      },
      "execution_count": 27,
      "outputs": [
        {
          "output_type": "execute_result",
          "data": {
            "text/plain": [
              "LogisticRegression()"
            ]
          },
          "metadata": {},
          "execution_count": 27
        }
      ]
    },
    {
      "cell_type": "code",
      "source": [],
      "metadata": {
        "id": "TOGcUqdtpm-7"
      },
      "execution_count": null,
      "outputs": []
    }
  ]
}