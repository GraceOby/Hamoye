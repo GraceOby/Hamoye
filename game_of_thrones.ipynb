{
  "nbformat": 4,
  "nbformat_minor": 0,
  "metadata": {
    "colab": {
      "provenance": [],
      "mount_file_id": "1vuFuinneStcLh0F4baDMS0SMjpG-IsI3",
      "authorship_tag": "ABX9TyMq0dsYycqortVzTUf7qbym",
      "include_colab_link": true
    },
    "kernelspec": {
      "name": "python3",
      "display_name": "Python 3"
    },
    "language_info": {
      "name": "python"
    }
  },
  "cells": [
    {
      "cell_type": "markdown",
      "metadata": {
        "id": "view-in-github",
        "colab_type": "text"
      },
      "source": [
        "<a href=\"https://colab.research.google.com/github/GraceOby/Hamoye/blob/main/game_of_thrones.ipynb\" target=\"_parent\"><img src=\"https://colab.research.google.com/assets/colab-badge.svg\" alt=\"Open In Colab\"/></a>"
      ]
    },
    {
      "cell_type": "code",
      "source": [
        "from ast import increment_lineno\n",
        "import pandas as pd\n",
        "import numpy as np\n",
        "import matplotlib.pyplot as plt\n",
        "import seaborn as sns\n",
        "%matplotlib inline"
      ],
      "metadata": {
        "id": "hS9KAxKvkke6"
      },
      "execution_count": 40,
      "outputs": []
    },
    {
      "cell_type": "markdown",
      "source": [
        "**GAME OF THRONES**\n",
        "\n",
        "We'd be using three datasets:\n",
        "\n",
        "* battles.csv\n",
        "\n",
        "* character-death.csv\n",
        "\n",
        "* character-predictions.csv "
      ],
      "metadata": {
        "id": "ZNbgtb9PlGJ8"
      }
    },
    {
      "cell_type": "code",
      "execution_count": 41,
      "metadata": {
        "id": "sUvFuCKvhnVw",
        "colab": {
          "base_uri": "https://localhost:8080/",
          "height": 421
        },
        "outputId": "7df74c68-2961-450b-b21e-dd43aeaa0825"
      },
      "outputs": [
        {
          "output_type": "execute_result",
          "data": {
            "text/plain": [
              "                           name  year  battle_number  \\\n",
              "33  Second Seige of Storm's End   300             34   \n",
              "34         Siege of Dragonstone   300             35   \n",
              "35            Siege of Riverrun   300             36   \n",
              "36           Siege of Raventree   300             37   \n",
              "37          Siege of Winterfell   300             38   \n",
              "\n",
              "               attacker_king             defender_king attacker_1 attacker_2  \\\n",
              "33  Joffrey/Tommen Baratheon         Stannis Baratheon  Baratheon        NaN   \n",
              "34  Joffrey/Tommen Baratheon         Stannis Baratheon  Baratheon        NaN   \n",
              "35  Joffrey/Tommen Baratheon                Robb Stark  Lannister       Frey   \n",
              "36  Joffrey/Tommen Baratheon                Robb Stark    Bracken  Lannister   \n",
              "37         Stannis Baratheon  Joffrey/Tommen Baratheon  Baratheon   Karstark   \n",
              "\n",
              "   attacker_3 attacker_4 defender_1  ... major_death  major_capture  \\\n",
              "33        NaN        NaN  Baratheon  ...         0.0            0.0   \n",
              "34        NaN        NaN  Baratheon  ...         0.0            0.0   \n",
              "35        NaN        NaN      Tully  ...         0.0            0.0   \n",
              "36        NaN        NaN  Blackwood  ...         0.0            1.0   \n",
              "37    Mormont     Glover     Bolton  ...         NaN            NaN   \n",
              "\n",
              "    attacker_size defender_size                           attacker_commander  \\\n",
              "33            NaN         200.0                    Mace Tyrell, Mathis Rowan   \n",
              "34         2000.0           NaN                 Loras Tyrell, Raxter Redwyne   \n",
              "35         3000.0           NaN  Daven Lannister, Ryman Fey, Jaime Lannister   \n",
              "36         1500.0           NaN               Jonos Bracken, Jaime Lannister   \n",
              "37         5000.0        8000.0                            Stannis Baratheon   \n",
              "\n",
              "    defender_commander  summer     location          region note  \n",
              "33     Gilbert Farring     0.0  Storm's End  The Stormlands  NaN  \n",
              "34       Rolland Storm     0.0  Dragonstone  The Stormlands  NaN  \n",
              "35       Brynden Tully     0.0     Riverrun  The Riverlands  NaN  \n",
              "36     Tytos Blackwood     0.0    Raventree  The Riverlands  NaN  \n",
              "37        Roose Bolton     0.0   Winterfell       The North  NaN  \n",
              "\n",
              "[5 rows x 25 columns]"
            ],
            "text/html": [
              "\n",
              "  <div id=\"df-ed6c920a-1a2b-4532-b0c8-7000edb2c116\">\n",
              "    <div class=\"colab-df-container\">\n",
              "      <div>\n",
              "<style scoped>\n",
              "    .dataframe tbody tr th:only-of-type {\n",
              "        vertical-align: middle;\n",
              "    }\n",
              "\n",
              "    .dataframe tbody tr th {\n",
              "        vertical-align: top;\n",
              "    }\n",
              "\n",
              "    .dataframe thead th {\n",
              "        text-align: right;\n",
              "    }\n",
              "</style>\n",
              "<table border=\"1\" class=\"dataframe\">\n",
              "  <thead>\n",
              "    <tr style=\"text-align: right;\">\n",
              "      <th></th>\n",
              "      <th>name</th>\n",
              "      <th>year</th>\n",
              "      <th>battle_number</th>\n",
              "      <th>attacker_king</th>\n",
              "      <th>defender_king</th>\n",
              "      <th>attacker_1</th>\n",
              "      <th>attacker_2</th>\n",
              "      <th>attacker_3</th>\n",
              "      <th>attacker_4</th>\n",
              "      <th>defender_1</th>\n",
              "      <th>...</th>\n",
              "      <th>major_death</th>\n",
              "      <th>major_capture</th>\n",
              "      <th>attacker_size</th>\n",
              "      <th>defender_size</th>\n",
              "      <th>attacker_commander</th>\n",
              "      <th>defender_commander</th>\n",
              "      <th>summer</th>\n",
              "      <th>location</th>\n",
              "      <th>region</th>\n",
              "      <th>note</th>\n",
              "    </tr>\n",
              "  </thead>\n",
              "  <tbody>\n",
              "    <tr>\n",
              "      <th>33</th>\n",
              "      <td>Second Seige of Storm's End</td>\n",
              "      <td>300</td>\n",
              "      <td>34</td>\n",
              "      <td>Joffrey/Tommen Baratheon</td>\n",
              "      <td>Stannis Baratheon</td>\n",
              "      <td>Baratheon</td>\n",
              "      <td>NaN</td>\n",
              "      <td>NaN</td>\n",
              "      <td>NaN</td>\n",
              "      <td>Baratheon</td>\n",
              "      <td>...</td>\n",
              "      <td>0.0</td>\n",
              "      <td>0.0</td>\n",
              "      <td>NaN</td>\n",
              "      <td>200.0</td>\n",
              "      <td>Mace Tyrell, Mathis Rowan</td>\n",
              "      <td>Gilbert Farring</td>\n",
              "      <td>0.0</td>\n",
              "      <td>Storm's End</td>\n",
              "      <td>The Stormlands</td>\n",
              "      <td>NaN</td>\n",
              "    </tr>\n",
              "    <tr>\n",
              "      <th>34</th>\n",
              "      <td>Siege of Dragonstone</td>\n",
              "      <td>300</td>\n",
              "      <td>35</td>\n",
              "      <td>Joffrey/Tommen Baratheon</td>\n",
              "      <td>Stannis Baratheon</td>\n",
              "      <td>Baratheon</td>\n",
              "      <td>NaN</td>\n",
              "      <td>NaN</td>\n",
              "      <td>NaN</td>\n",
              "      <td>Baratheon</td>\n",
              "      <td>...</td>\n",
              "      <td>0.0</td>\n",
              "      <td>0.0</td>\n",
              "      <td>2000.0</td>\n",
              "      <td>NaN</td>\n",
              "      <td>Loras Tyrell, Raxter Redwyne</td>\n",
              "      <td>Rolland Storm</td>\n",
              "      <td>0.0</td>\n",
              "      <td>Dragonstone</td>\n",
              "      <td>The Stormlands</td>\n",
              "      <td>NaN</td>\n",
              "    </tr>\n",
              "    <tr>\n",
              "      <th>35</th>\n",
              "      <td>Siege of Riverrun</td>\n",
              "      <td>300</td>\n",
              "      <td>36</td>\n",
              "      <td>Joffrey/Tommen Baratheon</td>\n",
              "      <td>Robb Stark</td>\n",
              "      <td>Lannister</td>\n",
              "      <td>Frey</td>\n",
              "      <td>NaN</td>\n",
              "      <td>NaN</td>\n",
              "      <td>Tully</td>\n",
              "      <td>...</td>\n",
              "      <td>0.0</td>\n",
              "      <td>0.0</td>\n",
              "      <td>3000.0</td>\n",
              "      <td>NaN</td>\n",
              "      <td>Daven Lannister, Ryman Fey, Jaime Lannister</td>\n",
              "      <td>Brynden Tully</td>\n",
              "      <td>0.0</td>\n",
              "      <td>Riverrun</td>\n",
              "      <td>The Riverlands</td>\n",
              "      <td>NaN</td>\n",
              "    </tr>\n",
              "    <tr>\n",
              "      <th>36</th>\n",
              "      <td>Siege of Raventree</td>\n",
              "      <td>300</td>\n",
              "      <td>37</td>\n",
              "      <td>Joffrey/Tommen Baratheon</td>\n",
              "      <td>Robb Stark</td>\n",
              "      <td>Bracken</td>\n",
              "      <td>Lannister</td>\n",
              "      <td>NaN</td>\n",
              "      <td>NaN</td>\n",
              "      <td>Blackwood</td>\n",
              "      <td>...</td>\n",
              "      <td>0.0</td>\n",
              "      <td>1.0</td>\n",
              "      <td>1500.0</td>\n",
              "      <td>NaN</td>\n",
              "      <td>Jonos Bracken, Jaime Lannister</td>\n",
              "      <td>Tytos Blackwood</td>\n",
              "      <td>0.0</td>\n",
              "      <td>Raventree</td>\n",
              "      <td>The Riverlands</td>\n",
              "      <td>NaN</td>\n",
              "    </tr>\n",
              "    <tr>\n",
              "      <th>37</th>\n",
              "      <td>Siege of Winterfell</td>\n",
              "      <td>300</td>\n",
              "      <td>38</td>\n",
              "      <td>Stannis Baratheon</td>\n",
              "      <td>Joffrey/Tommen Baratheon</td>\n",
              "      <td>Baratheon</td>\n",
              "      <td>Karstark</td>\n",
              "      <td>Mormont</td>\n",
              "      <td>Glover</td>\n",
              "      <td>Bolton</td>\n",
              "      <td>...</td>\n",
              "      <td>NaN</td>\n",
              "      <td>NaN</td>\n",
              "      <td>5000.0</td>\n",
              "      <td>8000.0</td>\n",
              "      <td>Stannis Baratheon</td>\n",
              "      <td>Roose Bolton</td>\n",
              "      <td>0.0</td>\n",
              "      <td>Winterfell</td>\n",
              "      <td>The North</td>\n",
              "      <td>NaN</td>\n",
              "    </tr>\n",
              "  </tbody>\n",
              "</table>\n",
              "<p>5 rows × 25 columns</p>\n",
              "</div>\n",
              "      <button class=\"colab-df-convert\" onclick=\"convertToInteractive('df-ed6c920a-1a2b-4532-b0c8-7000edb2c116')\"\n",
              "              title=\"Convert this dataframe to an interactive table.\"\n",
              "              style=\"display:none;\">\n",
              "        \n",
              "  <svg xmlns=\"http://www.w3.org/2000/svg\" height=\"24px\"viewBox=\"0 0 24 24\"\n",
              "       width=\"24px\">\n",
              "    <path d=\"M0 0h24v24H0V0z\" fill=\"none\"/>\n",
              "    <path d=\"M18.56 5.44l.94 2.06.94-2.06 2.06-.94-2.06-.94-.94-2.06-.94 2.06-2.06.94zm-11 1L8.5 8.5l.94-2.06 2.06-.94-2.06-.94L8.5 2.5l-.94 2.06-2.06.94zm10 10l.94 2.06.94-2.06 2.06-.94-2.06-.94-.94-2.06-.94 2.06-2.06.94z\"/><path d=\"M17.41 7.96l-1.37-1.37c-.4-.4-.92-.59-1.43-.59-.52 0-1.04.2-1.43.59L10.3 9.45l-7.72 7.72c-.78.78-.78 2.05 0 2.83L4 21.41c.39.39.9.59 1.41.59.51 0 1.02-.2 1.41-.59l7.78-7.78 2.81-2.81c.8-.78.8-2.07 0-2.86zM5.41 20L4 18.59l7.72-7.72 1.47 1.35L5.41 20z\"/>\n",
              "  </svg>\n",
              "      </button>\n",
              "      \n",
              "  <style>\n",
              "    .colab-df-container {\n",
              "      display:flex;\n",
              "      flex-wrap:wrap;\n",
              "      gap: 12px;\n",
              "    }\n",
              "\n",
              "    .colab-df-convert {\n",
              "      background-color: #E8F0FE;\n",
              "      border: none;\n",
              "      border-radius: 50%;\n",
              "      cursor: pointer;\n",
              "      display: none;\n",
              "      fill: #1967D2;\n",
              "      height: 32px;\n",
              "      padding: 0 0 0 0;\n",
              "      width: 32px;\n",
              "    }\n",
              "\n",
              "    .colab-df-convert:hover {\n",
              "      background-color: #E2EBFA;\n",
              "      box-shadow: 0px 1px 2px rgba(60, 64, 67, 0.3), 0px 1px 3px 1px rgba(60, 64, 67, 0.15);\n",
              "      fill: #174EA6;\n",
              "    }\n",
              "\n",
              "    [theme=dark] .colab-df-convert {\n",
              "      background-color: #3B4455;\n",
              "      fill: #D2E3FC;\n",
              "    }\n",
              "\n",
              "    [theme=dark] .colab-df-convert:hover {\n",
              "      background-color: #434B5C;\n",
              "      box-shadow: 0px 1px 3px 1px rgba(0, 0, 0, 0.15);\n",
              "      filter: drop-shadow(0px 1px 2px rgba(0, 0, 0, 0.3));\n",
              "      fill: #FFFFFF;\n",
              "    }\n",
              "  </style>\n",
              "\n",
              "      <script>\n",
              "        const buttonEl =\n",
              "          document.querySelector('#df-ed6c920a-1a2b-4532-b0c8-7000edb2c116 button.colab-df-convert');\n",
              "        buttonEl.style.display =\n",
              "          google.colab.kernel.accessAllowed ? 'block' : 'none';\n",
              "\n",
              "        async function convertToInteractive(key) {\n",
              "          const element = document.querySelector('#df-ed6c920a-1a2b-4532-b0c8-7000edb2c116');\n",
              "          const dataTable =\n",
              "            await google.colab.kernel.invokeFunction('convertToInteractive',\n",
              "                                                     [key], {});\n",
              "          if (!dataTable) return;\n",
              "\n",
              "          const docLinkHtml = 'Like what you see? Visit the ' +\n",
              "            '<a target=\"_blank\" href=https://colab.research.google.com/notebooks/data_table.ipynb>data table notebook</a>'\n",
              "            + ' to learn more about interactive tables.';\n",
              "          element.innerHTML = '';\n",
              "          dataTable['output_type'] = 'display_data';\n",
              "          await google.colab.output.renderOutput(dataTable, element);\n",
              "          const docLink = document.createElement('div');\n",
              "          docLink.innerHTML = docLinkHtml;\n",
              "          element.appendChild(docLink);\n",
              "        }\n",
              "      </script>\n",
              "    </div>\n",
              "  </div>\n",
              "  "
            ]
          },
          "metadata": {},
          "execution_count": 41
        }
      ],
      "source": [
        "battles_df = pd.read_csv(\"/content/drive/MyDrive/HAMOYE-Internship/project/datasets/battles.csv\")\n",
        "battles_df.tail()"
      ]
    },
    {
      "cell_type": "code",
      "source": [
        "char_death_df = pd.read_csv(\"/content/drive/MyDrive/HAMOYE-Internship/project/datasets/character-deaths.csv\")\n",
        "char_death_df.tail()"
      ],
      "metadata": {
        "colab": {
          "base_uri": "https://localhost:8080/",
          "height": 320
        },
        "id": "o1i7EoCYkiJG",
        "outputId": "83c0b92c-fd16-4524-b371-84de404f0ed8"
      },
      "execution_count": 42,
      "outputs": [
        {
          "output_type": "execute_result",
          "data": {
            "text/plain": [
              "                  Name Allegiances  Death Year  Book of Death  Death Chapter  \\\n",
              "912              Zollo        None         NaN            NaN            NaN   \n",
              "913  Yurkhaz zo Yunzak        None       300.0            5.0           59.0   \n",
              "914   Yezzan Zo Qaggaz        None       300.0            5.0           57.0   \n",
              "915   Torwynd the Tame    Wildling       300.0            5.0           73.0   \n",
              "916      Talbert Serry      Tyrell       300.0            4.0           29.0   \n",
              "\n",
              "     Book Intro Chapter  Gender  Nobility  GoT  CoK  SoS  FfC  DwD  \n",
              "912                21.0       1         0    0    0    1    0    0  \n",
              "913                47.0       1         0    0    0    0    0    1  \n",
              "914                25.0       1         1    0    0    0    0    1  \n",
              "915                73.0       1         0    0    0    1    0    0  \n",
              "916                29.0       1         1    0    0    0    1    0  "
            ],
            "text/html": [
              "\n",
              "  <div id=\"df-e94d2102-def2-475e-9d28-6f7719c95d91\">\n",
              "    <div class=\"colab-df-container\">\n",
              "      <div>\n",
              "<style scoped>\n",
              "    .dataframe tbody tr th:only-of-type {\n",
              "        vertical-align: middle;\n",
              "    }\n",
              "\n",
              "    .dataframe tbody tr th {\n",
              "        vertical-align: top;\n",
              "    }\n",
              "\n",
              "    .dataframe thead th {\n",
              "        text-align: right;\n",
              "    }\n",
              "</style>\n",
              "<table border=\"1\" class=\"dataframe\">\n",
              "  <thead>\n",
              "    <tr style=\"text-align: right;\">\n",
              "      <th></th>\n",
              "      <th>Name</th>\n",
              "      <th>Allegiances</th>\n",
              "      <th>Death Year</th>\n",
              "      <th>Book of Death</th>\n",
              "      <th>Death Chapter</th>\n",
              "      <th>Book Intro Chapter</th>\n",
              "      <th>Gender</th>\n",
              "      <th>Nobility</th>\n",
              "      <th>GoT</th>\n",
              "      <th>CoK</th>\n",
              "      <th>SoS</th>\n",
              "      <th>FfC</th>\n",
              "      <th>DwD</th>\n",
              "    </tr>\n",
              "  </thead>\n",
              "  <tbody>\n",
              "    <tr>\n",
              "      <th>912</th>\n",
              "      <td>Zollo</td>\n",
              "      <td>None</td>\n",
              "      <td>NaN</td>\n",
              "      <td>NaN</td>\n",
              "      <td>NaN</td>\n",
              "      <td>21.0</td>\n",
              "      <td>1</td>\n",
              "      <td>0</td>\n",
              "      <td>0</td>\n",
              "      <td>0</td>\n",
              "      <td>1</td>\n",
              "      <td>0</td>\n",
              "      <td>0</td>\n",
              "    </tr>\n",
              "    <tr>\n",
              "      <th>913</th>\n",
              "      <td>Yurkhaz zo Yunzak</td>\n",
              "      <td>None</td>\n",
              "      <td>300.0</td>\n",
              "      <td>5.0</td>\n",
              "      <td>59.0</td>\n",
              "      <td>47.0</td>\n",
              "      <td>1</td>\n",
              "      <td>0</td>\n",
              "      <td>0</td>\n",
              "      <td>0</td>\n",
              "      <td>0</td>\n",
              "      <td>0</td>\n",
              "      <td>1</td>\n",
              "    </tr>\n",
              "    <tr>\n",
              "      <th>914</th>\n",
              "      <td>Yezzan Zo Qaggaz</td>\n",
              "      <td>None</td>\n",
              "      <td>300.0</td>\n",
              "      <td>5.0</td>\n",
              "      <td>57.0</td>\n",
              "      <td>25.0</td>\n",
              "      <td>1</td>\n",
              "      <td>1</td>\n",
              "      <td>0</td>\n",
              "      <td>0</td>\n",
              "      <td>0</td>\n",
              "      <td>0</td>\n",
              "      <td>1</td>\n",
              "    </tr>\n",
              "    <tr>\n",
              "      <th>915</th>\n",
              "      <td>Torwynd the Tame</td>\n",
              "      <td>Wildling</td>\n",
              "      <td>300.0</td>\n",
              "      <td>5.0</td>\n",
              "      <td>73.0</td>\n",
              "      <td>73.0</td>\n",
              "      <td>1</td>\n",
              "      <td>0</td>\n",
              "      <td>0</td>\n",
              "      <td>0</td>\n",
              "      <td>1</td>\n",
              "      <td>0</td>\n",
              "      <td>0</td>\n",
              "    </tr>\n",
              "    <tr>\n",
              "      <th>916</th>\n",
              "      <td>Talbert Serry</td>\n",
              "      <td>Tyrell</td>\n",
              "      <td>300.0</td>\n",
              "      <td>4.0</td>\n",
              "      <td>29.0</td>\n",
              "      <td>29.0</td>\n",
              "      <td>1</td>\n",
              "      <td>1</td>\n",
              "      <td>0</td>\n",
              "      <td>0</td>\n",
              "      <td>0</td>\n",
              "      <td>1</td>\n",
              "      <td>0</td>\n",
              "    </tr>\n",
              "  </tbody>\n",
              "</table>\n",
              "</div>\n",
              "      <button class=\"colab-df-convert\" onclick=\"convertToInteractive('df-e94d2102-def2-475e-9d28-6f7719c95d91')\"\n",
              "              title=\"Convert this dataframe to an interactive table.\"\n",
              "              style=\"display:none;\">\n",
              "        \n",
              "  <svg xmlns=\"http://www.w3.org/2000/svg\" height=\"24px\"viewBox=\"0 0 24 24\"\n",
              "       width=\"24px\">\n",
              "    <path d=\"M0 0h24v24H0V0z\" fill=\"none\"/>\n",
              "    <path d=\"M18.56 5.44l.94 2.06.94-2.06 2.06-.94-2.06-.94-.94-2.06-.94 2.06-2.06.94zm-11 1L8.5 8.5l.94-2.06 2.06-.94-2.06-.94L8.5 2.5l-.94 2.06-2.06.94zm10 10l.94 2.06.94-2.06 2.06-.94-2.06-.94-.94-2.06-.94 2.06-2.06.94z\"/><path d=\"M17.41 7.96l-1.37-1.37c-.4-.4-.92-.59-1.43-.59-.52 0-1.04.2-1.43.59L10.3 9.45l-7.72 7.72c-.78.78-.78 2.05 0 2.83L4 21.41c.39.39.9.59 1.41.59.51 0 1.02-.2 1.41-.59l7.78-7.78 2.81-2.81c.8-.78.8-2.07 0-2.86zM5.41 20L4 18.59l7.72-7.72 1.47 1.35L5.41 20z\"/>\n",
              "  </svg>\n",
              "      </button>\n",
              "      \n",
              "  <style>\n",
              "    .colab-df-container {\n",
              "      display:flex;\n",
              "      flex-wrap:wrap;\n",
              "      gap: 12px;\n",
              "    }\n",
              "\n",
              "    .colab-df-convert {\n",
              "      background-color: #E8F0FE;\n",
              "      border: none;\n",
              "      border-radius: 50%;\n",
              "      cursor: pointer;\n",
              "      display: none;\n",
              "      fill: #1967D2;\n",
              "      height: 32px;\n",
              "      padding: 0 0 0 0;\n",
              "      width: 32px;\n",
              "    }\n",
              "\n",
              "    .colab-df-convert:hover {\n",
              "      background-color: #E2EBFA;\n",
              "      box-shadow: 0px 1px 2px rgba(60, 64, 67, 0.3), 0px 1px 3px 1px rgba(60, 64, 67, 0.15);\n",
              "      fill: #174EA6;\n",
              "    }\n",
              "\n",
              "    [theme=dark] .colab-df-convert {\n",
              "      background-color: #3B4455;\n",
              "      fill: #D2E3FC;\n",
              "    }\n",
              "\n",
              "    [theme=dark] .colab-df-convert:hover {\n",
              "      background-color: #434B5C;\n",
              "      box-shadow: 0px 1px 3px 1px rgba(0, 0, 0, 0.15);\n",
              "      filter: drop-shadow(0px 1px 2px rgba(0, 0, 0, 0.3));\n",
              "      fill: #FFFFFF;\n",
              "    }\n",
              "  </style>\n",
              "\n",
              "      <script>\n",
              "        const buttonEl =\n",
              "          document.querySelector('#df-e94d2102-def2-475e-9d28-6f7719c95d91 button.colab-df-convert');\n",
              "        buttonEl.style.display =\n",
              "          google.colab.kernel.accessAllowed ? 'block' : 'none';\n",
              "\n",
              "        async function convertToInteractive(key) {\n",
              "          const element = document.querySelector('#df-e94d2102-def2-475e-9d28-6f7719c95d91');\n",
              "          const dataTable =\n",
              "            await google.colab.kernel.invokeFunction('convertToInteractive',\n",
              "                                                     [key], {});\n",
              "          if (!dataTable) return;\n",
              "\n",
              "          const docLinkHtml = 'Like what you see? Visit the ' +\n",
              "            '<a target=\"_blank\" href=https://colab.research.google.com/notebooks/data_table.ipynb>data table notebook</a>'\n",
              "            + ' to learn more about interactive tables.';\n",
              "          element.innerHTML = '';\n",
              "          dataTable['output_type'] = 'display_data';\n",
              "          await google.colab.output.renderOutput(dataTable, element);\n",
              "          const docLink = document.createElement('div');\n",
              "          docLink.innerHTML = docLinkHtml;\n",
              "          element.appendChild(docLink);\n",
              "        }\n",
              "      </script>\n",
              "    </div>\n",
              "  </div>\n",
              "  "
            ]
          },
          "metadata": {},
          "execution_count": 42
        }
      ]
    },
    {
      "cell_type": "code",
      "source": [
        "char_pred_df = pd.read_csv(\"/content/drive/MyDrive/HAMOYE-Internship/project/datasets/character-predictions.csv\")\n",
        "char_pred_df.tail()"
      ],
      "metadata": {
        "colab": {
          "base_uri": "https://localhost:8080/",
          "height": 334
        },
        "id": "ziPa5QrgmVIy",
        "outputId": "2ddb0d9c-ca7f-4595-cedf-f05e76e725b7"
      },
      "execution_count": 43,
      "outputs": [
        {
          "output_type": "execute_result",
          "data": {
            "text/plain": [
              "      S.No  actual  pred  alive   plod              name          title  male  \\\n",
              "1941  1942       0     1  0.803  0.197             Luwin            NaN     1   \n",
              "1942  1943       0     1  0.987  0.013              Reek            NaN     1   \n",
              "1943  1944       1     1  0.520  0.480  Symeon Star-Eyes            NaN     1   \n",
              "1944  1945       1     1  0.637  0.363         Coldhands            NaN     1   \n",
              "1945  1946       0     0  0.093  0.907   Tytos Lannister  Casterly Rock     1   \n",
              "\n",
              "       culture  dateOfBirth  ...  isAliveHeir isAliveSpouse isMarried isNoble  \\\n",
              "1941  Westeros          NaN  ...          NaN           NaN         0       0   \n",
              "1942       NaN          NaN  ...          NaN           NaN         0       0   \n",
              "1943       NaN          NaN  ...          NaN           NaN         0       0   \n",
              "1944       NaN          NaN  ...          NaN           NaN         0       0   \n",
              "1945       NaN        220.0  ...          NaN           1.0         1       1   \n",
              "\n",
              "       age numDeadRelations  boolDeadRelations  isPopular  popularity  isAlive  \n",
              "1941   NaN                0                  0          1    0.351171        0  \n",
              "1942   NaN                0                  0          0    0.096990        0  \n",
              "1943   NaN                0                  0          0    0.030100        1  \n",
              "1944   NaN                0                  0          0    0.130435        1  \n",
              "1945  47.0                4                  1          0    0.210702        0  \n",
              "\n",
              "[5 rows x 33 columns]"
            ],
            "text/html": [
              "\n",
              "  <div id=\"df-ca6da756-c0cb-493c-97e4-0e1bcc7cc1e8\">\n",
              "    <div class=\"colab-df-container\">\n",
              "      <div>\n",
              "<style scoped>\n",
              "    .dataframe tbody tr th:only-of-type {\n",
              "        vertical-align: middle;\n",
              "    }\n",
              "\n",
              "    .dataframe tbody tr th {\n",
              "        vertical-align: top;\n",
              "    }\n",
              "\n",
              "    .dataframe thead th {\n",
              "        text-align: right;\n",
              "    }\n",
              "</style>\n",
              "<table border=\"1\" class=\"dataframe\">\n",
              "  <thead>\n",
              "    <tr style=\"text-align: right;\">\n",
              "      <th></th>\n",
              "      <th>S.No</th>\n",
              "      <th>actual</th>\n",
              "      <th>pred</th>\n",
              "      <th>alive</th>\n",
              "      <th>plod</th>\n",
              "      <th>name</th>\n",
              "      <th>title</th>\n",
              "      <th>male</th>\n",
              "      <th>culture</th>\n",
              "      <th>dateOfBirth</th>\n",
              "      <th>...</th>\n",
              "      <th>isAliveHeir</th>\n",
              "      <th>isAliveSpouse</th>\n",
              "      <th>isMarried</th>\n",
              "      <th>isNoble</th>\n",
              "      <th>age</th>\n",
              "      <th>numDeadRelations</th>\n",
              "      <th>boolDeadRelations</th>\n",
              "      <th>isPopular</th>\n",
              "      <th>popularity</th>\n",
              "      <th>isAlive</th>\n",
              "    </tr>\n",
              "  </thead>\n",
              "  <tbody>\n",
              "    <tr>\n",
              "      <th>1941</th>\n",
              "      <td>1942</td>\n",
              "      <td>0</td>\n",
              "      <td>1</td>\n",
              "      <td>0.803</td>\n",
              "      <td>0.197</td>\n",
              "      <td>Luwin</td>\n",
              "      <td>NaN</td>\n",
              "      <td>1</td>\n",
              "      <td>Westeros</td>\n",
              "      <td>NaN</td>\n",
              "      <td>...</td>\n",
              "      <td>NaN</td>\n",
              "      <td>NaN</td>\n",
              "      <td>0</td>\n",
              "      <td>0</td>\n",
              "      <td>NaN</td>\n",
              "      <td>0</td>\n",
              "      <td>0</td>\n",
              "      <td>1</td>\n",
              "      <td>0.351171</td>\n",
              "      <td>0</td>\n",
              "    </tr>\n",
              "    <tr>\n",
              "      <th>1942</th>\n",
              "      <td>1943</td>\n",
              "      <td>0</td>\n",
              "      <td>1</td>\n",
              "      <td>0.987</td>\n",
              "      <td>0.013</td>\n",
              "      <td>Reek</td>\n",
              "      <td>NaN</td>\n",
              "      <td>1</td>\n",
              "      <td>NaN</td>\n",
              "      <td>NaN</td>\n",
              "      <td>...</td>\n",
              "      <td>NaN</td>\n",
              "      <td>NaN</td>\n",
              "      <td>0</td>\n",
              "      <td>0</td>\n",
              "      <td>NaN</td>\n",
              "      <td>0</td>\n",
              "      <td>0</td>\n",
              "      <td>0</td>\n",
              "      <td>0.096990</td>\n",
              "      <td>0</td>\n",
              "    </tr>\n",
              "    <tr>\n",
              "      <th>1943</th>\n",
              "      <td>1944</td>\n",
              "      <td>1</td>\n",
              "      <td>1</td>\n",
              "      <td>0.520</td>\n",
              "      <td>0.480</td>\n",
              "      <td>Symeon Star-Eyes</td>\n",
              "      <td>NaN</td>\n",
              "      <td>1</td>\n",
              "      <td>NaN</td>\n",
              "      <td>NaN</td>\n",
              "      <td>...</td>\n",
              "      <td>NaN</td>\n",
              "      <td>NaN</td>\n",
              "      <td>0</td>\n",
              "      <td>0</td>\n",
              "      <td>NaN</td>\n",
              "      <td>0</td>\n",
              "      <td>0</td>\n",
              "      <td>0</td>\n",
              "      <td>0.030100</td>\n",
              "      <td>1</td>\n",
              "    </tr>\n",
              "    <tr>\n",
              "      <th>1944</th>\n",
              "      <td>1945</td>\n",
              "      <td>1</td>\n",
              "      <td>1</td>\n",
              "      <td>0.637</td>\n",
              "      <td>0.363</td>\n",
              "      <td>Coldhands</td>\n",
              "      <td>NaN</td>\n",
              "      <td>1</td>\n",
              "      <td>NaN</td>\n",
              "      <td>NaN</td>\n",
              "      <td>...</td>\n",
              "      <td>NaN</td>\n",
              "      <td>NaN</td>\n",
              "      <td>0</td>\n",
              "      <td>0</td>\n",
              "      <td>NaN</td>\n",
              "      <td>0</td>\n",
              "      <td>0</td>\n",
              "      <td>0</td>\n",
              "      <td>0.130435</td>\n",
              "      <td>1</td>\n",
              "    </tr>\n",
              "    <tr>\n",
              "      <th>1945</th>\n",
              "      <td>1946</td>\n",
              "      <td>0</td>\n",
              "      <td>0</td>\n",
              "      <td>0.093</td>\n",
              "      <td>0.907</td>\n",
              "      <td>Tytos Lannister</td>\n",
              "      <td>Casterly Rock</td>\n",
              "      <td>1</td>\n",
              "      <td>NaN</td>\n",
              "      <td>220.0</td>\n",
              "      <td>...</td>\n",
              "      <td>NaN</td>\n",
              "      <td>1.0</td>\n",
              "      <td>1</td>\n",
              "      <td>1</td>\n",
              "      <td>47.0</td>\n",
              "      <td>4</td>\n",
              "      <td>1</td>\n",
              "      <td>0</td>\n",
              "      <td>0.210702</td>\n",
              "      <td>0</td>\n",
              "    </tr>\n",
              "  </tbody>\n",
              "</table>\n",
              "<p>5 rows × 33 columns</p>\n",
              "</div>\n",
              "      <button class=\"colab-df-convert\" onclick=\"convertToInteractive('df-ca6da756-c0cb-493c-97e4-0e1bcc7cc1e8')\"\n",
              "              title=\"Convert this dataframe to an interactive table.\"\n",
              "              style=\"display:none;\">\n",
              "        \n",
              "  <svg xmlns=\"http://www.w3.org/2000/svg\" height=\"24px\"viewBox=\"0 0 24 24\"\n",
              "       width=\"24px\">\n",
              "    <path d=\"M0 0h24v24H0V0z\" fill=\"none\"/>\n",
              "    <path d=\"M18.56 5.44l.94 2.06.94-2.06 2.06-.94-2.06-.94-.94-2.06-.94 2.06-2.06.94zm-11 1L8.5 8.5l.94-2.06 2.06-.94-2.06-.94L8.5 2.5l-.94 2.06-2.06.94zm10 10l.94 2.06.94-2.06 2.06-.94-2.06-.94-.94-2.06-.94 2.06-2.06.94z\"/><path d=\"M17.41 7.96l-1.37-1.37c-.4-.4-.92-.59-1.43-.59-.52 0-1.04.2-1.43.59L10.3 9.45l-7.72 7.72c-.78.78-.78 2.05 0 2.83L4 21.41c.39.39.9.59 1.41.59.51 0 1.02-.2 1.41-.59l7.78-7.78 2.81-2.81c.8-.78.8-2.07 0-2.86zM5.41 20L4 18.59l7.72-7.72 1.47 1.35L5.41 20z\"/>\n",
              "  </svg>\n",
              "      </button>\n",
              "      \n",
              "  <style>\n",
              "    .colab-df-container {\n",
              "      display:flex;\n",
              "      flex-wrap:wrap;\n",
              "      gap: 12px;\n",
              "    }\n",
              "\n",
              "    .colab-df-convert {\n",
              "      background-color: #E8F0FE;\n",
              "      border: none;\n",
              "      border-radius: 50%;\n",
              "      cursor: pointer;\n",
              "      display: none;\n",
              "      fill: #1967D2;\n",
              "      height: 32px;\n",
              "      padding: 0 0 0 0;\n",
              "      width: 32px;\n",
              "    }\n",
              "\n",
              "    .colab-df-convert:hover {\n",
              "      background-color: #E2EBFA;\n",
              "      box-shadow: 0px 1px 2px rgba(60, 64, 67, 0.3), 0px 1px 3px 1px rgba(60, 64, 67, 0.15);\n",
              "      fill: #174EA6;\n",
              "    }\n",
              "\n",
              "    [theme=dark] .colab-df-convert {\n",
              "      background-color: #3B4455;\n",
              "      fill: #D2E3FC;\n",
              "    }\n",
              "\n",
              "    [theme=dark] .colab-df-convert:hover {\n",
              "      background-color: #434B5C;\n",
              "      box-shadow: 0px 1px 3px 1px rgba(0, 0, 0, 0.15);\n",
              "      filter: drop-shadow(0px 1px 2px rgba(0, 0, 0, 0.3));\n",
              "      fill: #FFFFFF;\n",
              "    }\n",
              "  </style>\n",
              "\n",
              "      <script>\n",
              "        const buttonEl =\n",
              "          document.querySelector('#df-ca6da756-c0cb-493c-97e4-0e1bcc7cc1e8 button.colab-df-convert');\n",
              "        buttonEl.style.display =\n",
              "          google.colab.kernel.accessAllowed ? 'block' : 'none';\n",
              "\n",
              "        async function convertToInteractive(key) {\n",
              "          const element = document.querySelector('#df-ca6da756-c0cb-493c-97e4-0e1bcc7cc1e8');\n",
              "          const dataTable =\n",
              "            await google.colab.kernel.invokeFunction('convertToInteractive',\n",
              "                                                     [key], {});\n",
              "          if (!dataTable) return;\n",
              "\n",
              "          const docLinkHtml = 'Like what you see? Visit the ' +\n",
              "            '<a target=\"_blank\" href=https://colab.research.google.com/notebooks/data_table.ipynb>data table notebook</a>'\n",
              "            + ' to learn more about interactive tables.';\n",
              "          element.innerHTML = '';\n",
              "          dataTable['output_type'] = 'display_data';\n",
              "          await google.colab.output.renderOutput(dataTable, element);\n",
              "          const docLink = document.createElement('div');\n",
              "          docLink.innerHTML = docLinkHtml;\n",
              "          element.appendChild(docLink);\n",
              "        }\n",
              "      </script>\n",
              "    </div>\n",
              "  </div>\n",
              "  "
            ]
          },
          "metadata": {},
          "execution_count": 43
        }
      ]
    },
    {
      "cell_type": "markdown",
      "source": [
        "**EDA on Battles Dataset**\n",
        "\n",
        "We try to answer certain questions using the battles dataset,\n",
        "\n",
        "This dataset contains the following features:\n",
        "\n",
        "['name', 'year', 'battle_number', 'attacker_king', 'defender_king',\n",
        "       'attacker_1', 'attacker_2', 'attacker_3', 'attacker_4', 'defender_1',\n",
        "       'defender_2', 'defender_3', 'defender_4', 'attacker_outcome',\n",
        "       'battle_type', 'major_death', 'major_capture', 'attacker_size',\n",
        "       'defender_size', 'attacker_commander', 'defender_commander', 'summer',\n",
        "       'location', 'region', 'note']"
      ],
      "metadata": {
        "id": "pNltMG0tnIr3"
      }
    },
    {
      "cell_type": "code",
      "source": [
        "battles_df.columns"
      ],
      "metadata": {
        "colab": {
          "base_uri": "https://localhost:8080/"
        },
        "id": "uCb37COVmrpN",
        "outputId": "99e655d3-393f-4533-c39d-87550be91341"
      },
      "execution_count": 44,
      "outputs": [
        {
          "output_type": "execute_result",
          "data": {
            "text/plain": [
              "Index(['name', 'year', 'battle_number', 'attacker_king', 'defender_king',\n",
              "       'attacker_1', 'attacker_2', 'attacker_3', 'attacker_4', 'defender_1',\n",
              "       'defender_2', 'defender_3', 'defender_4', 'attacker_outcome',\n",
              "       'battle_type', 'major_death', 'major_capture', 'attacker_size',\n",
              "       'defender_size', 'attacker_commander', 'defender_commander', 'summer',\n",
              "       'location', 'region', 'note'],\n",
              "      dtype='object')"
            ]
          },
          "metadata": {},
          "execution_count": 44
        }
      ]
    },
    {
      "cell_type": "code",
      "source": [
        "battles_df[\"name\"].value_counts().sum()"
      ],
      "metadata": {
        "colab": {
          "base_uri": "https://localhost:8080/"
        },
        "id": "8Ovz57yJnnyD",
        "outputId": "1a431c68-af6c-4af1-f710-961391ddb5ac"
      },
      "execution_count": 45,
      "outputs": [
        {
          "output_type": "execute_result",
          "data": {
            "text/plain": [
              "38"
            ]
          },
          "metadata": {},
          "execution_count": 45
        }
      ]
    },
    {
      "cell_type": "code",
      "source": [
        "battles_df[\"year\"].min(), battles_df[\"year\"].max()"
      ],
      "metadata": {
        "colab": {
          "base_uri": "https://localhost:8080/"
        },
        "id": "TcAE_eQdwIKv",
        "outputId": "f13938a1-7c9e-48f2-9c6e-43ca60691cea"
      },
      "execution_count": 46,
      "outputs": [
        {
          "output_type": "execute_result",
          "data": {
            "text/plain": [
              "(298, 300)"
            ]
          },
          "metadata": {},
          "execution_count": 46
        }
      ]
    },
    {
      "cell_type": "markdown",
      "source": [
        "* There were 38 battles fought within the 3-year context of our data...\n",
        "\n",
        "* Which of these years had the most battles? "
      ],
      "metadata": {
        "id": "65INYIeRwtkc"
      }
    },
    {
      "cell_type": "code",
      "source": [
        "battles_df[\"year\"].value_counts().plot(kind=\"bar\")"
      ],
      "metadata": {
        "colab": {
          "base_uri": "https://localhost:8080/",
          "height": 291
        },
        "id": "YQsbPHsRwiU9",
        "outputId": "afb3b127-32c1-4756-c6f8-eea6ea989ba0"
      },
      "execution_count": 47,
      "outputs": [
        {
          "output_type": "execute_result",
          "data": {
            "text/plain": [
              "<matplotlib.axes._subplots.AxesSubplot at 0x7f6e7495c700>"
            ]
          },
          "metadata": {},
          "execution_count": 47
        },
        {
          "output_type": "display_data",
          "data": {
            "text/plain": [
              "<Figure size 432x288 with 1 Axes>"
            ],
            "image/png": "[encoded data removed]"
          },
          "metadata": {
            "needs_background": "light"
          }
        }
      ]
    },
    {
      "cell_type": "markdown",
      "source": [
        "Most battles occured in 299BC"
      ],
      "metadata": {
        "id": "LpDMlQkgGiuD"
      }
    },
    {
      "cell_type": "code",
      "source": [
        "battles_df.isna().sum()"
      ],
      "metadata": {
        "colab": {
          "base_uri": "https://localhost:8080/"
        },
        "id": "R28U3KwcxS6y",
        "outputId": "ef69dbf1-198e-4306-af73-554e08851472"
      },
      "execution_count": 48,
      "outputs": [
        {
          "output_type": "execute_result",
          "data": {
            "text/plain": [
              "name                   0\n",
              "year                   0\n",
              "battle_number          0\n",
              "attacker_king          2\n",
              "defender_king          3\n",
              "attacker_1             0\n",
              "attacker_2            28\n",
              "attacker_3            35\n",
              "attacker_4            36\n",
              "defender_1             1\n",
              "defender_2            36\n",
              "defender_3            38\n",
              "defender_4            38\n",
              "attacker_outcome       1\n",
              "battle_type            1\n",
              "major_death            1\n",
              "major_capture          1\n",
              "attacker_size         14\n",
              "defender_size         19\n",
              "attacker_commander     1\n",
              "defender_commander    10\n",
              "summer                 1\n",
              "location               1\n",
              "region                 0\n",
              "note                  33\n",
              "dtype: int64"
            ]
          },
          "metadata": {},
          "execution_count": 48
        }
      ]
    },
    {
      "cell_type": "markdown",
      "source": [
        "To see the counts of values in different columns..."
      ],
      "metadata": {
        "id": "cfsOdkN07YYK"
      }
    },
    {
      "cell_type": "code",
      "source": [
        "battles_df[\"region\"].value_counts()"
      ],
      "metadata": {
        "colab": {
          "base_uri": "https://localhost:8080/"
        },
        "id": "S6b2RpJL7-2t",
        "outputId": "eebfb274-06af-49ca-93a0-d4b368a6e04d"
      },
      "execution_count": 49,
      "outputs": [
        {
          "output_type": "execute_result",
          "data": {
            "text/plain": [
              "The Riverlands     17\n",
              "The North          10\n",
              "The Westerlands     3\n",
              "The Stormlands      3\n",
              "The Crownlands      2\n",
              "The Reach           2\n",
              "Beyond the Wall     1\n",
              "Name: region, dtype: int64"
            ]
          },
          "metadata": {},
          "execution_count": 49
        }
      ]
    },
    {
      "cell_type": "code",
      "source": [
        "battles_df[\"attacker_king\"].value_counts()"
      ],
      "metadata": {
        "colab": {
          "base_uri": "https://localhost:8080/"
        },
        "id": "aIjUBmKkHh9A",
        "outputId": "9f2f4749-1880-4eec-8117-44b1637a20a0"
      },
      "execution_count": 50,
      "outputs": [
        {
          "output_type": "execute_result",
          "data": {
            "text/plain": [
              "Joffrey/Tommen Baratheon    14\n",
              "Robb Stark                  10\n",
              "Balon/Euron Greyjoy          7\n",
              "Stannis Baratheon            5\n",
              "Name: attacker_king, dtype: int64"
            ]
          },
          "metadata": {},
          "execution_count": 50
        }
      ]
    },
    {
      "cell_type": "code",
      "source": [
        "battles_df[\"attacker_commander\"].value_counts()"
      ],
      "metadata": {
        "colab": {
          "base_uri": "https://localhost:8080/"
        },
        "id": "_YWFPK6jJDtG",
        "outputId": "43fc2fa2-eaa5-4028-a473-bfcb2641f191"
      },
      "execution_count": 51,
      "outputs": [
        {
          "output_type": "execute_result",
          "data": {
            "text/plain": [
              "Gregor Clegane                                                                                     4\n",
              "Theon Greyjoy                                                                                      2\n",
              "Robb Stark, Brynden Tully                                                                          2\n",
              "Euron Greyjoy, Victarion Greyjoy                                                                   2\n",
              "Rorge                                                                                              1\n",
              "Walder Frey, Roose Bolton, Walder Rivers                                                           1\n",
              "Walder Frey                                                                                        1\n",
              "Mance Rayder, Tormund Giantsbane, Harma Dogshead, Magnar Styr, Varamyr                             1\n",
              "Ramsey Bolton                                                                                      1\n",
              "Jaime Lannister                                                                                    1\n",
              "Stannis Baratheon, Alysane Mormot                                                                  1\n",
              "Helman Tallhart                                                                                    1\n",
              "Mace Tyrell, Mathis Rowan                                                                          1\n",
              "Loras Tyrell, Raxter Redwyne                                                                       1\n",
              "Daven Lannister, Ryman Fey, Jaime Lannister                                                        1\n",
              "Jonos Bracken, Jaime Lannister                                                                     1\n",
              "Robertt Glover, Helman Tallhart                                                                    1\n",
              "Robb Stark, Smalljon Umber, Black Walder Frey                                                      1\n",
              "Stannis Baratheon, Imry Florent, Guyard Morrigen, Rolland Storm, Salladhor Saan, Davos Seaworth    1\n",
              "Roose Bolton, Vargo Hoat, Robett Glover                                                            1\n",
              "Tywin Lannister, Flement Brax, Gregor Clegane, Addam Marbrand, Lyle Crakehall, Leo Lefford         1\n",
              "Stannis Baratheon, Davos Seaworth                                                                  1\n",
              "Ramsay Snow, Theon Greyjoy                                                                         1\n",
              "Dagmer Cleftjaw                                                                                    1\n",
              "Rodrik Cassel, Cley Cerwyn                                                                         1\n",
              "Asha Greyjoy                                                                                       1\n",
              "Victarion Greyjoy                                                                                  1\n",
              "Robb Stark, Tytos Blackwood, Brynden Tully                                                         1\n",
              "Roose Bolton, Wylis Manderly, Medger Cerwyn, Harrion Karstark, Halys Hornwood                      1\n",
              "Jaime Lannister, Andros Brax                                                                       1\n",
              "Stannis Baratheon                                                                                  1\n",
              "Name: attacker_commander, dtype: int64"
            ]
          },
          "metadata": {},
          "execution_count": 51
        }
      ]
    },
    {
      "cell_type": "code",
      "source": [
        "battles_df[\"defender_king\"].value_counts()"
      ],
      "metadata": {
        "colab": {
          "base_uri": "https://localhost:8080/"
        },
        "id": "mMTGGjvWHvgI",
        "outputId": "3a76728b-4698-4db0-adda-3159d5c2b46b"
      },
      "execution_count": 52,
      "outputs": [
        {
          "output_type": "execute_result",
          "data": {
            "text/plain": [
              "Robb Stark                  14\n",
              "Joffrey/Tommen Baratheon    13\n",
              "Balon/Euron Greyjoy          4\n",
              "Stannis Baratheon            2\n",
              "Renly Baratheon              1\n",
              "Mance Rayder                 1\n",
              "Name: defender_king, dtype: int64"
            ]
          },
          "metadata": {},
          "execution_count": 52
        }
      ]
    },
    {
      "cell_type": "code",
      "source": [
        "battles_df[\"defender_commander\"].value_counts()"
      ],
      "metadata": {
        "colab": {
          "base_uri": "https://localhost:8080/"
        },
        "id": "0UBPpJufH4Uw",
        "outputId": "d0057db7-1ea8-4763-ac36-4f10a6ec70a8"
      },
      "execution_count": 53,
      "outputs": [
        {
          "output_type": "execute_result",
          "data": {
            "text/plain": [
              "Clement Piper, Vance                                                                                             1\n",
              "Beric Dondarrion                                                                                                 1\n",
              "Tytos Blackwood                                                                                                  1\n",
              "Brynden Tully                                                                                                    1\n",
              "Rolland Storm                                                                                                    1\n",
              "Gilbert Farring                                                                                                  1\n",
              "Asha Greyjoy                                                                                                     1\n",
              "Stannis Baratheon, Jon Snow, Donal Noye, Cotter Pyke                                                             1\n",
              "Jason Mallister                                                                                                  1\n",
              "Robb Stark                                                                                                       1\n",
              "Vargo Hoat                                                                                                       1\n",
              "Roose Bolton, Wylis Manderly                                                                                     1\n",
              "Randyll Tarly, Gregor Clegane                                                                                    1\n",
              "Tyrion Lannister, Jacelyn Bywater, Sandor Clegane, Tywin Lannister, Garlan Tyrell, Mace Tyrell, Randyll Tarly    1\n",
              "Rolph Spicer                                                                                                     1\n",
              "Amory Lorch                                                                                                      1\n",
              "Edmure Tully, Jason Mallister, Karyl Vance                                                                       1\n",
              "Renly Baratheon, Cortnay Penrose, Loras Tyrell, Randyll Tarly, Mathis Rowan                                      1\n",
              "Stafford Lannister, Roland Crakehall, Antario Jast                                                               1\n",
              "Rodrik Cassel, Cley Cerwyn, Leobald Tallhart                                                                     1\n",
              "Bran Stark                                                                                                       1\n",
              "Dagmer Cleftjaw                                                                                                  1\n",
              "Lyman Darry                                                                                                      1\n",
              "Lord Andros Brax, Forley Prester                                                                                 1\n",
              "Jaime Lannister                                                                                                  1\n",
              "Tywin Lannister, Gregor Clegane, Kevan Lannister, Addam Marbrand                                                 1\n",
              "Edmure Tully, Tytos Blackwood                                                                                    1\n",
              "Roose Bolton                                                                                                     1\n",
              "Name: defender_commander, dtype: int64"
            ]
          },
          "metadata": {},
          "execution_count": 53
        }
      ]
    },
    {
      "cell_type": "markdown",
      "source": [
        "What Questions can we ask from all the above columns?"
      ],
      "metadata": {
        "id": "qRYXYDNuJrnI"
      }
    },
    {
      "cell_type": "code",
      "source": [
        "#Major deaths/capture by region\n",
        "deaths_per_region = battles_df.groupby(\"region\").sum()[[\"major_death\", \"major_capture\"]].sort_values(by=\"major_death\", ascending=False)\n",
        "deaths_per_region"
      ],
      "metadata": {
        "colab": {
          "base_uri": "https://localhost:8080/",
          "height": 300
        },
        "id": "vJypLtCoJyB_",
        "outputId": "095808ab-f373-46f7-aa47-f75d5e9bd943"
      },
      "execution_count": 54,
      "outputs": [
        {
          "output_type": "execute_result",
          "data": {
            "text/plain": [
              "                 major_death  major_capture\n",
              "region                                     \n",
              "The Riverlands           6.0            6.0\n",
              "The Crownlands           2.0            1.0\n",
              "The Westerlands          2.0            1.0\n",
              "Beyond the Wall          1.0            1.0\n",
              "The North                1.0            2.0\n",
              "The Stormlands           1.0            0.0\n",
              "The Reach                0.0            0.0"
            ],
            "text/html": [
              "\n",
              "  <div id=\"df-8a6bbf33-b8b7-43f8-aa4f-bf53dfaf3b4d\">\n",
              "    <div class=\"colab-df-container\">\n",
              "      <div>\n",
              "<style scoped>\n",
              "    .dataframe tbody tr th:only-of-type {\n",
              "        vertical-align: middle;\n",
              "    }\n",
              "\n",
              "    .dataframe tbody tr th {\n",
              "        vertical-align: top;\n",
              "    }\n",
              "\n",
              "    .dataframe thead th {\n",
              "        text-align: right;\n",
              "    }\n",
              "</style>\n",
              "<table border=\"1\" class=\"dataframe\">\n",
              "  <thead>\n",
              "    <tr style=\"text-align: right;\">\n",
              "      <th></th>\n",
              "      <th>major_death</th>\n",
              "      <th>major_capture</th>\n",
              "    </tr>\n",
              "    <tr>\n",
              "      <th>region</th>\n",
              "      <th></th>\n",
              "      <th></th>\n",
              "    </tr>\n",
              "  </thead>\n",
              "  <tbody>\n",
              "    <tr>\n",
              "      <th>The Riverlands</th>\n",
              "      <td>6.0</td>\n",
              "      <td>6.0</td>\n",
              "    </tr>\n",
              "    <tr>\n",
              "      <th>The Crownlands</th>\n",
              "      <td>2.0</td>\n",
              "      <td>1.0</td>\n",
              "    </tr>\n",
              "    <tr>\n",
              "      <th>The Westerlands</th>\n",
              "      <td>2.0</td>\n",
              "      <td>1.0</td>\n",
              "    </tr>\n",
              "    <tr>\n",
              "      <th>Beyond the Wall</th>\n",
              "      <td>1.0</td>\n",
              "      <td>1.0</td>\n",
              "    </tr>\n",
              "    <tr>\n",
              "      <th>The North</th>\n",
              "      <td>1.0</td>\n",
              "      <td>2.0</td>\n",
              "    </tr>\n",
              "    <tr>\n",
              "      <th>The Stormlands</th>\n",
              "      <td>1.0</td>\n",
              "      <td>0.0</td>\n",
              "    </tr>\n",
              "    <tr>\n",
              "      <th>The Reach</th>\n",
              "      <td>0.0</td>\n",
              "      <td>0.0</td>\n",
              "    </tr>\n",
              "  </tbody>\n",
              "</table>\n",
              "</div>\n",
              "      <button class=\"colab-df-convert\" onclick=\"convertToInteractive('df-8a6bbf33-b8b7-43f8-aa4f-bf53dfaf3b4d')\"\n",
              "              title=\"Convert this dataframe to an interactive table.\"\n",
              "              style=\"display:none;\">\n",
              "        \n",
              "  <svg xmlns=\"http://www.w3.org/2000/svg\" height=\"24px\"viewBox=\"0 0 24 24\"\n",
              "       width=\"24px\">\n",
              "    <path d=\"M0 0h24v24H0V0z\" fill=\"none\"/>\n",
              "    <path d=\"M18.56 5.44l.94 2.06.94-2.06 2.06-.94-2.06-.94-.94-2.06-.94 2.06-2.06.94zm-11 1L8.5 8.5l.94-2.06 2.06-.94-2.06-.94L8.5 2.5l-.94 2.06-2.06.94zm10 10l.94 2.06.94-2.06 2.06-.94-2.06-.94-.94-2.06-.94 2.06-2.06.94z\"/><path d=\"M17.41 7.96l-1.37-1.37c-.4-.4-.92-.59-1.43-.59-.52 0-1.04.2-1.43.59L10.3 9.45l-7.72 7.72c-.78.78-.78 2.05 0 2.83L4 21.41c.39.39.9.59 1.41.59.51 0 1.02-.2 1.41-.59l7.78-7.78 2.81-2.81c.8-.78.8-2.07 0-2.86zM5.41 20L4 18.59l7.72-7.72 1.47 1.35L5.41 20z\"/>\n",
              "  </svg>\n",
              "      </button>\n",
              "      \n",
              "  <style>\n",
              "    .colab-df-container {\n",
              "      display:flex;\n",
              "      flex-wrap:wrap;\n",
              "      gap: 12px;\n",
              "    }\n",
              "\n",
              "    .colab-df-convert {\n",
              "      background-color: #E8F0FE;\n",
              "      border: none;\n",
              "      border-radius: 50%;\n",
              "      cursor: pointer;\n",
              "      display: none;\n",
              "      fill: #1967D2;\n",
              "      height: 32px;\n",
              "      padding: 0 0 0 0;\n",
              "      width: 32px;\n",
              "    }\n",
              "\n",
              "    .colab-df-convert:hover {\n",
              "      background-color: #E2EBFA;\n",
              "      box-shadow: 0px 1px 2px rgba(60, 64, 67, 0.3), 0px 1px 3px 1px rgba(60, 64, 67, 0.15);\n",
              "      fill: #174EA6;\n",
              "    }\n",
              "\n",
              "    [theme=dark] .colab-df-convert {\n",
              "      background-color: #3B4455;\n",
              "      fill: #D2E3FC;\n",
              "    }\n",
              "\n",
              "    [theme=dark] .colab-df-convert:hover {\n",
              "      background-color: #434B5C;\n",
              "      box-shadow: 0px 1px 3px 1px rgba(0, 0, 0, 0.15);\n",
              "      filter: drop-shadow(0px 1px 2px rgba(0, 0, 0, 0.3));\n",
              "      fill: #FFFFFF;\n",
              "    }\n",
              "  </style>\n",
              "\n",
              "      <script>\n",
              "        const buttonEl =\n",
              "          document.querySelector('#df-8a6bbf33-b8b7-43f8-aa4f-bf53dfaf3b4d button.colab-df-convert');\n",
              "        buttonEl.style.display =\n",
              "          google.colab.kernel.accessAllowed ? 'block' : 'none';\n",
              "\n",
              "        async function convertToInteractive(key) {\n",
              "          const element = document.querySelector('#df-8a6bbf33-b8b7-43f8-aa4f-bf53dfaf3b4d');\n",
              "          const dataTable =\n",
              "            await google.colab.kernel.invokeFunction('convertToInteractive',\n",
              "                                                     [key], {});\n",
              "          if (!dataTable) return;\n",
              "\n",
              "          const docLinkHtml = 'Like what you see? Visit the ' +\n",
              "            '<a target=\"_blank\" href=https://colab.research.google.com/notebooks/data_table.ipynb>data table notebook</a>'\n",
              "            + ' to learn more about interactive tables.';\n",
              "          element.innerHTML = '';\n",
              "          dataTable['output_type'] = 'display_data';\n",
              "          await google.colab.output.renderOutput(dataTable, element);\n",
              "          const docLink = document.createElement('div');\n",
              "          docLink.innerHTML = docLinkHtml;\n",
              "          element.appendChild(docLink);\n",
              "        }\n",
              "      </script>\n",
              "    </div>\n",
              "  </div>\n",
              "  "
            ]
          },
          "metadata": {},
          "execution_count": 54
        }
      ]
    },
    {
      "cell_type": "code",
      "source": [
        "deaths_per_region.plot.bar(color = [\"salmon\", \"grey\"], rot = 90)"
      ],
      "metadata": {
        "colab": {
          "base_uri": "https://localhost:8080/",
          "height": 370
        },
        "id": "AqAT9YZuN3Jv",
        "outputId": "a24aab40-1768-439c-a687-9d651c44a50a"
      },
      "execution_count": 55,
      "outputs": [
        {
          "output_type": "execute_result",
          "data": {
            "text/plain": [
              "<matplotlib.axes._subplots.AxesSubplot at 0x7f6e75b275e0>"
            ]
          },
          "metadata": {},
          "execution_count": 55
        },
        {
          "output_type": "display_data",
          "data": {
            "text/plain": [
              "<Figure size 432x288 with 1 Axes>"
            ],
            "image/png": "[encoded data removed]"
          },
          "metadata": {
            "needs_background": "light"
          }
        }
      ]
    },
    {
      "cell_type": "code",
      "source": [
        "#Major deaths/Capture by year\n",
        "deaths_per_year = battles_df.groupby('year').sum()[[\"major_death\", \"major_capture\"]].plot.bar(rot = 0, color=[\"salmon\", \"grey\"])\n",
        "deaths_per_year.set(xlabel = \"Year\", ylabel = \"No. of Death/Capture Events\", ylim = (0, 9)), \n",
        "deaths_per_year.legend([\"Major Deaths\", \"Major Captures\"])"
      ],
      "metadata": {
        "colab": {
          "base_uri": "https://localhost:8080/",
          "height": 300
        },
        "id": "SL5-DYWlZxZD",
        "outputId": "2f29ee85-ffad-4361-dfc4-39a7ba5f5ac5"
      },
      "execution_count": 56,
      "outputs": [
        {
          "output_type": "execute_result",
          "data": {
            "text/plain": [
              "<matplotlib.legend.Legend at 0x7f6e75b9f940>"
            ]
          },
          "metadata": {},
          "execution_count": 56
        },
        {
          "output_type": "display_data",
          "data": {
            "text/plain": [
              "<Figure size 432x288 with 1 Axes>"
            ],
            "image/png": "[encoded data removed]"
          },
          "metadata": {
            "needs_background": "light"
          }
        }
      ]
    },
    {
      "cell_type": "code",
      "source": [],
      "metadata": {
        "id": "xRoUcyzXVA0M"
      },
      "execution_count": 56,
      "outputs": []
    },
    {
      "cell_type": "markdown",
      "source": [
        "We define new columns:\n",
        "\n",
        "\n",
        "1.   attacker_kings_count: no of kings on the attacking side\n",
        "2.   defender_kings_count: no of Kings defending\n",
        "3.   attacking_commanders_count: no of commanders attacking\n",
        "\n"
      ],
      "metadata": {
        "id": "AnNRw_HYUdDA"
      }
    },
    {
      "cell_type": "code",
      "source": [
        "battles_df[\"attacker_kings_count\"] = (4-battles_df[[\"attacker_1\", \"attacker_2\", \"attacker_3\", \"attacker_4\"]].isnull().sum(axis=1))\n",
        "battles_df[\"attacker_kings_count\"][:10]"
      ],
      "metadata": {
        "colab": {
          "base_uri": "https://localhost:8080/"
        },
        "id": "frAllOhYQeDe",
        "outputId": "f1737ea6-dfeb-4eae-c534-5eeb8a99fb76"
      },
      "execution_count": 57,
      "outputs": [
        {
          "output_type": "execute_result",
          "data": {
            "text/plain": [
              "0    1\n",
              "1    1\n",
              "2    1\n",
              "3    1\n",
              "4    2\n",
              "5    2\n",
              "6    1\n",
              "7    1\n",
              "8    1\n",
              "9    1\n",
              "Name: attacker_kings_count, dtype: int64"
            ]
          },
          "metadata": {},
          "execution_count": 57
        }
      ]
    },
    {
      "cell_type": "code",
      "source": [
        "#To visualize the above i.e how often more than one king attacked\n",
        "b = battles_df[\"attacker_kings_count\"].value_counts().sort_index().plot.bar(rot = 0)\n",
        "b.set(xlabel = \"No. of Major Attacker Houses\", ylabel = \"Count\")"
      ],
      "metadata": {
        "colab": {
          "base_uri": "https://localhost:8080/",
          "height": 296
        },
        "id": "KbDb_GjHcKOh",
        "outputId": "9d67434f-377f-4c20-d8a9-6b29fd222068"
      },
      "execution_count": 58,
      "outputs": [
        {
          "output_type": "execute_result",
          "data": {
            "text/plain": [
              "[Text(0, 0.5, 'Count'), Text(0.5, 0, 'No. of Major Attacker Houses')]"
            ]
          },
          "metadata": {},
          "execution_count": 58
        },
        {
          "output_type": "display_data",
          "data": {
            "text/plain": [
              "<Figure size 432x288 with 1 Axes>"
            ],
            "image/png": "[encoded data removed]"
          },
          "metadata": {
            "needs_background": "light"
          }
        }
      ]
    },
    {
      "cell_type": "code",
      "source": [
        "battles_df[\"defender_kings_count\"] = (4-battles_df[[\"defender_1\", \"defender_2\", \"defender_3\", \"defender_4\"]].isnull().sum(axis=1))\n",
        "battles_df[\"defender_kings_count\"][:10]"
      ],
      "metadata": {
        "colab": {
          "base_uri": "https://localhost:8080/"
        },
        "id": "sE-Xc9r2VDj2",
        "outputId": "b1cce509-aa6c-4e85-e1bd-0a3bf91a11cf"
      },
      "execution_count": 59,
      "outputs": [
        {
          "output_type": "execute_result",
          "data": {
            "text/plain": [
              "0    1\n",
              "1    1\n",
              "2    1\n",
              "3    1\n",
              "4    1\n",
              "5    1\n",
              "6    1\n",
              "7    1\n",
              "8    1\n",
              "9    1\n",
              "Name: defender_kings_count, dtype: int64"
            ]
          },
          "metadata": {},
          "execution_count": 59
        }
      ]
    },
    {
      "cell_type": "code",
      "source": [
        "#To visualize the above i.e how often more than one king defended\n",
        "b = battles_df[\"defender_kings_count\"].value_counts().sort_index().plot.bar(rot = 0)\n",
        "b.set(xlabel = \"No. of Major Defender Houses\", ylabel = \"Count\")"
      ],
      "metadata": {
        "colab": {
          "base_uri": "https://localhost:8080/",
          "height": 296
        },
        "id": "S7LlW_mr-54k",
        "outputId": "7dde2a53-9bf0-48ad-94e9-ba27ac9630c9"
      },
      "execution_count": 60,
      "outputs": [
        {
          "output_type": "execute_result",
          "data": {
            "text/plain": [
              "[Text(0, 0.5, 'Count'), Text(0.5, 0, 'No. of Major Defender Houses')]"
            ]
          },
          "metadata": {},
          "execution_count": 60
        },
        {
          "output_type": "display_data",
          "data": {
            "text/plain": [
              "<Figure size 432x288 with 1 Axes>"
            ],
            "image/png": "[encoded data removed]"
          },
          "metadata": {
            "needs_background": "light"
          }
        }
      ]
    },
    {
      "cell_type": "code",
      "source": [
        "battles_df[\"attacking_commanders_count\"] = [len(x) if type(x) == list else np.nan for x in battles_df.attacker_commander.str.split(\",\")]\n",
        "battles_df[\"attacking_commanders_count\"][:10]"
      ],
      "metadata": {
        "colab": {
          "base_uri": "https://localhost:8080/"
        },
        "id": "J0A_MDhcWUdC",
        "outputId": "8fb47df3-3393-487a-8fcf-8beb1ec1237e"
      },
      "execution_count": 61,
      "outputs": [
        {
          "output_type": "execute_result",
          "data": {
            "text/plain": [
              "0    1.0\n",
              "1    1.0\n",
              "2    2.0\n",
              "3    5.0\n",
              "4    2.0\n",
              "5    3.0\n",
              "6    1.0\n",
              "7    1.0\n",
              "8    1.0\n",
              "9    1.0\n",
              "Name: attacking_commanders_count, dtype: float64"
            ]
          },
          "metadata": {},
          "execution_count": 61
        }
      ]
    },
    {
      "cell_type": "code",
      "source": [
        "battles_df[\"attacker_outcome\"].value_counts()"
      ],
      "metadata": {
        "colab": {
          "base_uri": "https://localhost:8080/"
        },
        "id": "cd6sTiZmWsYa",
        "outputId": "b32a4ab7-8349-462c-b8fa-e1e8e84ba73b"
      },
      "execution_count": 62,
      "outputs": [
        {
          "output_type": "execute_result",
          "data": {
            "text/plain": [
              "win     32\n",
              "loss     5\n",
              "Name: attacker_outcome, dtype: int64"
            ]
          },
          "metadata": {},
          "execution_count": 62
        }
      ]
    },
    {
      "cell_type": "code",
      "source": [
        "a = battles_df.groupby(\"attacker_king\").sum()[[\"attacking_commanders_count\"]].sort_values(by=\"attacking_commanders_count\", ascending=False)\n",
        "a"
      ],
      "metadata": {
        "colab": {
          "base_uri": "https://localhost:8080/",
          "height": 206
        },
        "id": "dClOnsGofJir",
        "outputId": "cee92947-f39d-44b1-ff06-92bc4d0a0c7c"
      },
      "execution_count": 63,
      "outputs": [
        {
          "output_type": "execute_result",
          "data": {
            "text/plain": [
              "                          attacking_commanders_count\n",
              "attacker_king                                       \n",
              "Joffrey/Tommen Baratheon                        28.0\n",
              "Robb Stark                                      24.0\n",
              "Stannis Baratheon                               16.0\n",
              "Balon/Euron Greyjoy                              9.0"
            ],
            "text/html": [
              "\n",
              "  <div id=\"df-e5a789b4-0582-4d51-bebc-99a0a09916d1\">\n",
              "    <div class=\"colab-df-container\">\n",
              "      <div>\n",
              "<style scoped>\n",
              "    .dataframe tbody tr th:only-of-type {\n",
              "        vertical-align: middle;\n",
              "    }\n",
              "\n",
              "    .dataframe tbody tr th {\n",
              "        vertical-align: top;\n",
              "    }\n",
              "\n",
              "    .dataframe thead th {\n",
              "        text-align: right;\n",
              "    }\n",
              "</style>\n",
              "<table border=\"1\" class=\"dataframe\">\n",
              "  <thead>\n",
              "    <tr style=\"text-align: right;\">\n",
              "      <th></th>\n",
              "      <th>attacking_commanders_count</th>\n",
              "    </tr>\n",
              "    <tr>\n",
              "      <th>attacker_king</th>\n",
              "      <th></th>\n",
              "    </tr>\n",
              "  </thead>\n",
              "  <tbody>\n",
              "    <tr>\n",
              "      <th>Joffrey/Tommen Baratheon</th>\n",
              "      <td>28.0</td>\n",
              "    </tr>\n",
              "    <tr>\n",
              "      <th>Robb Stark</th>\n",
              "      <td>24.0</td>\n",
              "    </tr>\n",
              "    <tr>\n",
              "      <th>Stannis Baratheon</th>\n",
              "      <td>16.0</td>\n",
              "    </tr>\n",
              "    <tr>\n",
              "      <th>Balon/Euron Greyjoy</th>\n",
              "      <td>9.0</td>\n",
              "    </tr>\n",
              "  </tbody>\n",
              "</table>\n",
              "</div>\n",
              "      <button class=\"colab-df-convert\" onclick=\"convertToInteractive('df-e5a789b4-0582-4d51-bebc-99a0a09916d1')\"\n",
              "              title=\"Convert this dataframe to an interactive table.\"\n",
              "              style=\"display:none;\">\n",
              "        \n",
              "  <svg xmlns=\"http://www.w3.org/2000/svg\" height=\"24px\"viewBox=\"0 0 24 24\"\n",
              "       width=\"24px\">\n",
              "    <path d=\"M0 0h24v24H0V0z\" fill=\"none\"/>\n",
              "    <path d=\"M18.56 5.44l.94 2.06.94-2.06 2.06-.94-2.06-.94-.94-2.06-.94 2.06-2.06.94zm-11 1L8.5 8.5l.94-2.06 2.06-.94-2.06-.94L8.5 2.5l-.94 2.06-2.06.94zm10 10l.94 2.06.94-2.06 2.06-.94-2.06-.94-.94-2.06-.94 2.06-2.06.94z\"/><path d=\"M17.41 7.96l-1.37-1.37c-.4-.4-.92-.59-1.43-.59-.52 0-1.04.2-1.43.59L10.3 9.45l-7.72 7.72c-.78.78-.78 2.05 0 2.83L4 21.41c.39.39.9.59 1.41.59.51 0 1.02-.2 1.41-.59l7.78-7.78 2.81-2.81c.8-.78.8-2.07 0-2.86zM5.41 20L4 18.59l7.72-7.72 1.47 1.35L5.41 20z\"/>\n",
              "  </svg>\n",
              "      </button>\n",
              "      \n",
              "  <style>\n",
              "    .colab-df-container {\n",
              "      display:flex;\n",
              "      flex-wrap:wrap;\n",
              "      gap: 12px;\n",
              "    }\n",
              "\n",
              "    .colab-df-convert {\n",
              "      background-color: #E8F0FE;\n",
              "      border: none;\n",
              "      border-radius: 50%;\n",
              "      cursor: pointer;\n",
              "      display: none;\n",
              "      fill: #1967D2;\n",
              "      height: 32px;\n",
              "      padding: 0 0 0 0;\n",
              "      width: 32px;\n",
              "    }\n",
              "\n",
              "    .colab-df-convert:hover {\n",
              "      background-color: #E2EBFA;\n",
              "      box-shadow: 0px 1px 2px rgba(60, 64, 67, 0.3), 0px 1px 3px 1px rgba(60, 64, 67, 0.15);\n",
              "      fill: #174EA6;\n",
              "    }\n",
              "\n",
              "    [theme=dark] .colab-df-convert {\n",
              "      background-color: #3B4455;\n",
              "      fill: #D2E3FC;\n",
              "    }\n",
              "\n",
              "    [theme=dark] .colab-df-convert:hover {\n",
              "      background-color: #434B5C;\n",
              "      box-shadow: 0px 1px 3px 1px rgba(0, 0, 0, 0.15);\n",
              "      filter: drop-shadow(0px 1px 2px rgba(0, 0, 0, 0.3));\n",
              "      fill: #FFFFFF;\n",
              "    }\n",
              "  </style>\n",
              "\n",
              "      <script>\n",
              "        const buttonEl =\n",
              "          document.querySelector('#df-e5a789b4-0582-4d51-bebc-99a0a09916d1 button.colab-df-convert');\n",
              "        buttonEl.style.display =\n",
              "          google.colab.kernel.accessAllowed ? 'block' : 'none';\n",
              "\n",
              "        async function convertToInteractive(key) {\n",
              "          const element = document.querySelector('#df-e5a789b4-0582-4d51-bebc-99a0a09916d1');\n",
              "          const dataTable =\n",
              "            await google.colab.kernel.invokeFunction('convertToInteractive',\n",
              "                                                     [key], {});\n",
              "          if (!dataTable) return;\n",
              "\n",
              "          const docLinkHtml = 'Like what you see? Visit the ' +\n",
              "            '<a target=\"_blank\" href=https://colab.research.google.com/notebooks/data_table.ipynb>data table notebook</a>'\n",
              "            + ' to learn more about interactive tables.';\n",
              "          element.innerHTML = '';\n",
              "          dataTable['output_type'] = 'display_data';\n",
              "          await google.colab.output.renderOutput(dataTable, element);\n",
              "          const docLink = document.createElement('div');\n",
              "          docLink.innerHTML = docLinkHtml;\n",
              "          element.appendChild(docLink);\n",
              "        }\n",
              "      </script>\n",
              "    </div>\n",
              "  </div>\n",
              "  "
            ]
          },
          "metadata": {},
          "execution_count": 63
        }
      ]
    },
    {
      "cell_type": "code",
      "source": [
        "plt.subplots(figsize=(8,6))\n",
        "sns.histplot(data=battles_df, x=battles_df[\"attacking_commanders_count\"], hue=\"attacker_outcome\")\n",
        "plt.show()"
      ],
      "metadata": {
        "colab": {
          "base_uri": "https://localhost:8080/",
          "height": 389
        },
        "id": "hvkMvYI2_tfy",
        "outputId": "6985d04d-f632-4363-dfe2-c612536c5c3e"
      },
      "execution_count": 64,
      "outputs": [
        {
          "output_type": "display_data",
          "data": {
            "text/plain": [
              "<Figure size 576x432 with 1 Axes>"
            ],
            "image/png": "[encoded data removed]"
          },
          "metadata": {
            "needs_background": "light"
          }
        }
      ]
    },
    {
      "cell_type": "code",
      "source": [
        "plt.subplots(figsize=(8, 6))\n",
        "sns.barplot(x=\"attacker_king\", y=\"attacking_commanders_count\", hue=\"attacker_outcome\", data=battles_df, palette=\"rainbow\")\n",
        "plt.show()"
      ],
      "metadata": {
        "colab": {
          "base_uri": "https://localhost:8080/",
          "height": 389
        },
        "id": "BVY6jsJVhivN",
        "outputId": "e1db88bd-f7c0-4e84-f54b-56240c422e4d"
      },
      "execution_count": 65,
      "outputs": [
        {
          "output_type": "display_data",
          "data": {
            "text/plain": [
              "<Figure size 576x432 with 1 Axes>"
            ],
            "image/png": "[encoded data removed]"
          },
          "metadata": {
            "needs_background": "light"
          }
        }
      ]
    },
    {
      "cell_type": "code",
      "source": [
        "plt.subplots(figsize=(8, 6))\n",
        "sns.barplot(x=\"attacker_king\", y=\"attacker_size\", hue=\"attacker_outcome\", data=battles_df, palette=\"rainbow\")\n",
        "plt.ylim(0, 70000)\n",
        "plt.show()"
      ],
      "metadata": {
        "colab": {
          "base_uri": "https://localhost:8080/",
          "height": 393
        },
        "id": "z_omya3Tjk0O",
        "outputId": "2b957964-3bf1-4f82-864b-9559ffa38d6b"
      },
      "execution_count": 66,
      "outputs": [
        {
          "output_type": "display_data",
          "data": {
            "text/plain": [
              "<Figure size 576x432 with 1 Axes>"
            ],
            "image/png": "[encoded data removed]"
          },
          "metadata": {
            "needs_background": "light"
          }
        }
      ]
    },
    {
      "cell_type": "code",
      "source": [
        "battles_df.columns"
      ],
      "metadata": {
        "colab": {
          "base_uri": "https://localhost:8080/"
        },
        "id": "7L0h4j0znRUK",
        "outputId": "5396e096-779f-409e-992b-ecd957e5cf26"
      },
      "execution_count": 67,
      "outputs": [
        {
          "output_type": "execute_result",
          "data": {
            "text/plain": [
              "Index(['name', 'year', 'battle_number', 'attacker_king', 'defender_king',\n",
              "       'attacker_1', 'attacker_2', 'attacker_3', 'attacker_4', 'defender_1',\n",
              "       'defender_2', 'defender_3', 'defender_4', 'attacker_outcome',\n",
              "       'battle_type', 'major_death', 'major_capture', 'attacker_size',\n",
              "       'defender_size', 'attacker_commander', 'defender_commander', 'summer',\n",
              "       'location', 'region', 'note', 'attacker_kings_count',\n",
              "       'defender_kings_count', 'attacking_commanders_count'],\n",
              "      dtype='object')"
            ]
          },
          "metadata": {},
          "execution_count": 67
        }
      ]
    },
    {
      "cell_type": "code",
      "source": [
        "#Which King attacked the most and how succesful was he\n",
        "sns.histplot(battles_df, x=\"attacker_king\", hue=\"attacker_outcome\", multiple=\"stack\", palette=\"plasma\" )\n",
        "plt.xticks(rotation=90)\n",
        "plt.show()"
      ],
      "metadata": {
        "colab": {
          "base_uri": "https://localhost:8080/",
          "height": 403
        },
        "id": "Kn5ihpKtp-M8",
        "outputId": "ca9fbd71-a1fd-49c2-e079-65a7f05f78ad"
      },
      "execution_count": 68,
      "outputs": [
        {
          "output_type": "display_data",
          "data": {
            "text/plain": [
              "<Figure size 432x288 with 1 Axes>"
            ],
            "image/png": "[encoded data removed]"
          },
          "metadata": {
            "needs_background": "light"
          }
        }
      ]
    },
    {
      "cell_type": "code",
      "source": [
        "#Which King was most attacked? \n",
        "sns.histplot(data=battles_df, x=\"defender_king\", hue=\"attacker_outcome\", multiple=\"stack\", palette=\"plasma\" )\n",
        "plt.xticks(rotation=90)\n",
        "#plt.legend([\"loss\",\"win\"])\n",
        "plt.show()"
      ],
      "metadata": {
        "colab": {
          "base_uri": "https://localhost:8080/",
          "height": 403
        },
        "id": "OMA3MZmkqZwn",
        "outputId": "176a239d-ff60-499d-bd12-a820a8970765"
      },
      "execution_count": 69,
      "outputs": [
        {
          "output_type": "display_data",
          "data": {
            "text/plain": [
              "<Figure size 432x288 with 1 Axes>"
            ],
            "image/png": "[encoded data removed]"
          },
          "metadata": {
            "needs_background": "light"
          }
        }
      ]
    },
    {
      "cell_type": "code",
      "source": [
        "war_action = battles_df['attacker_king'].value_counts() + battles_df['defender_king'].value_counts()\n",
        "war_action.fillna(1).plot(kind='bar')"
      ],
      "metadata": {
        "colab": {
          "base_uri": "https://localhost:8080/",
          "height": 405
        },
        "id": "nT6cIiO0vXXS",
        "outputId": "f20c7625-91ca-48ed-a173-537f6c8a5203"
      },
      "execution_count": 70,
      "outputs": [
        {
          "output_type": "execute_result",
          "data": {
            "text/plain": [
              "<matplotlib.axes._subplots.AxesSubplot at 0x7f6e7470a460>"
            ]
          },
          "metadata": {},
          "execution_count": 70
        },
        {
          "output_type": "display_data",
          "data": {
            "text/plain": [
              "<Figure size 432x288 with 1 Axes>"
            ],
            "image/png": "[encoded data removed]"
          },
          "metadata": {
            "needs_background": "light"
          }
        }
      ]
    },
    {
      "cell_type": "code",
      "source": [],
      "metadata": {
        "id": "bZrvnQDvxbPr"
      },
      "execution_count": 70,
      "outputs": []
    },
    {
      "cell_type": "code",
      "source": [
        "\n",
        "c = battles_df.groupby([\"attacker_king\", \"attacker_commander\"]).sum()[[\"attacking_commanders_count\"]]\n",
        "c"
      ],
      "metadata": {
        "colab": {
          "base_uri": "https://localhost:8080/",
          "height": 1000
        },
        "id": "AQNJuzaSyj9N",
        "outputId": "bbb0aa64-f2bc-4839-a539-1119a491dbbc"
      },
      "execution_count": 71,
      "outputs": [
        {
          "output_type": "execute_result",
          "data": {
            "text/plain": [
              "                                                                             attacking_commanders_count\n",
              "attacker_king            attacker_commander                                                            \n",
              "Balon/Euron Greyjoy      Asha Greyjoy                                                               1.0\n",
              "                         Dagmer Cleftjaw                                                            1.0\n",
              "                         Euron Greyjoy, Victarion Greyjoy                                           4.0\n",
              "                         Theon Greyjoy                                                              2.0\n",
              "                         Victarion Greyjoy                                                          1.0\n",
              "Joffrey/Tommen Baratheon Daven Lannister, Ryman Fey, Jaime Lannister                                3.0\n",
              "                         Gregor Clegane                                                             4.0\n",
              "                         Jaime Lannister                                                            1.0\n",
              "                         Jaime Lannister, Andros Brax                                               2.0\n",
              "                         Jonos Bracken, Jaime Lannister                                             2.0\n",
              "                         Loras Tyrell, Raxter Redwyne                                               2.0\n",
              "                         Mace Tyrell, Mathis Rowan                                                  2.0\n",
              "                         Ramsay Snow, Theon Greyjoy                                                 2.0\n",
              "                         Ramsey Bolton                                                              1.0\n",
              "                         Tywin Lannister, Flement Brax, Gregor Clegane, ...                         6.0\n",
              "                         Walder Frey, Roose Bolton, Walder Rivers                                   3.0\n",
              "Robb Stark               Helman Tallhart                                                            1.0\n",
              "                         Robb Stark, Brynden Tully                                                  4.0\n",
              "                         Robb Stark, Smalljon Umber, Black Walder Frey                              3.0\n",
              "                         Robb Stark, Tytos Blackwood, Brynden Tully                                 3.0\n",
              "                         Robertt Glover, Helman Tallhart                                            2.0\n",
              "                         Rodrik Cassel, Cley Cerwyn                                                 2.0\n",
              "                         Roose Bolton, Vargo Hoat, Robett Glover                                    3.0\n",
              "                         Roose Bolton, Wylis Manderly, Medger Cerwyn, Ha...                         5.0\n",
              "                         Walder Frey                                                                1.0\n",
              "Stannis Baratheon        Mance Rayder, Tormund Giantsbane, Harma Dogshea...                         5.0\n",
              "                         Stannis Baratheon                                                          1.0\n",
              "                         Stannis Baratheon, Alysane Mormot                                          2.0\n",
              "                         Stannis Baratheon, Davos Seaworth                                          2.0\n",
              "                         Stannis Baratheon, Imry Florent, Guyard Morrige...                         6.0"
            ],
            "text/html": [
              "\n",
              "  <div id=\"df-cad43c61-31cb-4e6d-b187-09ce83ab0301\">\n",
              "    <div class=\"colab-df-container\">\n",
              "      <div>\n",
              "<style scoped>\n",
              "    .dataframe tbody tr th:only-of-type {\n",
              "        vertical-align: middle;\n",
              "    }\n",
              "\n",
              "    .dataframe tbody tr th {\n",
              "        vertical-align: top;\n",
              "    }\n",
              "\n",
              "    .dataframe thead th {\n",
              "        text-align: right;\n",
              "    }\n",
              "</style>\n",
              "<table border=\"1\" class=\"dataframe\">\n",
              "  <thead>\n",
              "    <tr style=\"text-align: right;\">\n",
              "      <th></th>\n",
              "      <th></th>\n",
              "      <th>attacking_commanders_count</th>\n",
              "    </tr>\n",
              "    <tr>\n",
              "      <th>attacker_king</th>\n",
              "      <th>attacker_commander</th>\n",
              "      <th></th>\n",
              "    </tr>\n",
              "  </thead>\n",
              "  <tbody>\n",
              "    <tr>\n",
              "      <th rowspan=\"5\" valign=\"top\">Balon/Euron Greyjoy</th>\n",
              "      <th>Asha Greyjoy</th>\n",
              "      <td>1.0</td>\n",
              "    </tr>\n",
              "    <tr>\n",
              "      <th>Dagmer Cleftjaw</th>\n",
              "      <td>1.0</td>\n",
              "    </tr>\n",
              "    <tr>\n",
              "      <th>Euron Greyjoy, Victarion Greyjoy</th>\n",
              "      <td>4.0</td>\n",
              "    </tr>\n",
              "    <tr>\n",
              "      <th>Theon Greyjoy</th>\n",
              "      <td>2.0</td>\n",
              "    </tr>\n",
              "    <tr>\n",
              "      <th>Victarion Greyjoy</th>\n",
              "      <td>1.0</td>\n",
              "    </tr>\n",
              "    <tr>\n",
              "      <th rowspan=\"11\" valign=\"top\">Joffrey/Tommen Baratheon</th>\n",
              "      <th>Daven Lannister, Ryman Fey, Jaime Lannister</th>\n",
              "      <td>3.0</td>\n",
              "    </tr>\n",
              "    <tr>\n",
              "      <th>Gregor Clegane</th>\n",
              "      <td>4.0</td>\n",
              "    </tr>\n",
              "    <tr>\n",
              "      <th>Jaime Lannister</th>\n",
              "      <td>1.0</td>\n",
              "    </tr>\n",
              "    <tr>\n",
              "      <th>Jaime Lannister, Andros Brax</th>\n",
              "      <td>2.0</td>\n",
              "    </tr>\n",
              "    <tr>\n",
              "      <th>Jonos Bracken, Jaime Lannister</th>\n",
              "      <td>2.0</td>\n",
              "    </tr>\n",
              "    <tr>\n",
              "      <th>Loras Tyrell, Raxter Redwyne</th>\n",
              "      <td>2.0</td>\n",
              "    </tr>\n",
              "    <tr>\n",
              "      <th>Mace Tyrell, Mathis Rowan</th>\n",
              "      <td>2.0</td>\n",
              "    </tr>\n",
              "    <tr>\n",
              "      <th>Ramsay Snow, Theon Greyjoy</th>\n",
              "      <td>2.0</td>\n",
              "    </tr>\n",
              "    <tr>\n",
              "      <th>Ramsey Bolton</th>\n",
              "      <td>1.0</td>\n",
              "    </tr>\n",
              "    <tr>\n",
              "      <th>Tywin Lannister, Flement Brax, Gregor Clegane, Addam Marbrand, Lyle Crakehall, Leo Lefford</th>\n",
              "      <td>6.0</td>\n",
              "    </tr>\n",
              "    <tr>\n",
              "      <th>Walder Frey, Roose Bolton, Walder Rivers</th>\n",
              "      <td>3.0</td>\n",
              "    </tr>\n",
              "    <tr>\n",
              "      <th rowspan=\"9\" valign=\"top\">Robb Stark</th>\n",
              "      <th>Helman Tallhart</th>\n",
              "      <td>1.0</td>\n",
              "    </tr>\n",
              "    <tr>\n",
              "      <th>Robb Stark, Brynden Tully</th>\n",
              "      <td>4.0</td>\n",
              "    </tr>\n",
              "    <tr>\n",
              "      <th>Robb Stark, Smalljon Umber, Black Walder Frey</th>\n",
              "      <td>3.0</td>\n",
              "    </tr>\n",
              "    <tr>\n",
              "      <th>Robb Stark, Tytos Blackwood, Brynden Tully</th>\n",
              "      <td>3.0</td>\n",
              "    </tr>\n",
              "    <tr>\n",
              "      <th>Robertt Glover, Helman Tallhart</th>\n",
              "      <td>2.0</td>\n",
              "    </tr>\n",
              "    <tr>\n",
              "      <th>Rodrik Cassel, Cley Cerwyn</th>\n",
              "      <td>2.0</td>\n",
              "    </tr>\n",
              "    <tr>\n",
              "      <th>Roose Bolton, Vargo Hoat, Robett Glover</th>\n",
              "      <td>3.0</td>\n",
              "    </tr>\n",
              "    <tr>\n",
              "      <th>Roose Bolton, Wylis Manderly, Medger Cerwyn, Harrion Karstark, Halys Hornwood</th>\n",
              "      <td>5.0</td>\n",
              "    </tr>\n",
              "    <tr>\n",
              "      <th>Walder Frey</th>\n",
              "      <td>1.0</td>\n",
              "    </tr>\n",
              "    <tr>\n",
              "      <th rowspan=\"5\" valign=\"top\">Stannis Baratheon</th>\n",
              "      <th>Mance Rayder, Tormund Giantsbane, Harma Dogshead, Magnar Styr, Varamyr</th>\n",
              "      <td>5.0</td>\n",
              "    </tr>\n",
              "    <tr>\n",
              "      <th>Stannis Baratheon</th>\n",
              "      <td>1.0</td>\n",
              "    </tr>\n",
              "    <tr>\n",
              "      <th>Stannis Baratheon, Alysane Mormot</th>\n",
              "      <td>2.0</td>\n",
              "    </tr>\n",
              "    <tr>\n",
              "      <th>Stannis Baratheon, Davos Seaworth</th>\n",
              "      <td>2.0</td>\n",
              "    </tr>\n",
              "    <tr>\n",
              "      <th>Stannis Baratheon, Imry Florent, Guyard Morrigen, Rolland Storm, Salladhor Saan, Davos Seaworth</th>\n",
              "      <td>6.0</td>\n",
              "    </tr>\n",
              "  </tbody>\n",
              "</table>\n",
              "</div>\n",
              "      <button class=\"colab-df-convert\" onclick=\"convertToInteractive('df-cad43c61-31cb-4e6d-b187-09ce83ab0301')\"\n",
              "              title=\"Convert this dataframe to an interactive table.\"\n",
              "              style=\"display:none;\">\n",
              "        \n",
              "  <svg xmlns=\"http://www.w3.org/2000/svg\" height=\"24px\"viewBox=\"0 0 24 24\"\n",
              "       width=\"24px\">\n",
              "    <path d=\"M0 0h24v24H0V0z\" fill=\"none\"/>\n",
              "    <path d=\"M18.56 5.44l.94 2.06.94-2.06 2.06-.94-2.06-.94-.94-2.06-.94 2.06-2.06.94zm-11 1L8.5 8.5l.94-2.06 2.06-.94-2.06-.94L8.5 2.5l-.94 2.06-2.06.94zm10 10l.94 2.06.94-2.06 2.06-.94-2.06-.94-.94-2.06-.94 2.06-2.06.94z\"/><path d=\"M17.41 7.96l-1.37-1.37c-.4-.4-.92-.59-1.43-.59-.52 0-1.04.2-1.43.59L10.3 9.45l-7.72 7.72c-.78.78-.78 2.05 0 2.83L4 21.41c.39.39.9.59 1.41.59.51 0 1.02-.2 1.41-.59l7.78-7.78 2.81-2.81c.8-.78.8-2.07 0-2.86zM5.41 20L4 18.59l7.72-7.72 1.47 1.35L5.41 20z\"/>\n",
              "  </svg>\n",
              "      </button>\n",
              "      \n",
              "  <style>\n",
              "    .colab-df-container {\n",
              "      display:flex;\n",
              "      flex-wrap:wrap;\n",
              "      gap: 12px;\n",
              "    }\n",
              "\n",
              "    .colab-df-convert {\n",
              "      background-color: #E8F0FE;\n",
              "      border: none;\n",
              "      border-radius: 50%;\n",
              "      cursor: pointer;\n",
              "      display: none;\n",
              "      fill: #1967D2;\n",
              "      height: 32px;\n",
              "      padding: 0 0 0 0;\n",
              "      width: 32px;\n",
              "    }\n",
              "\n",
              "    .colab-df-convert:hover {\n",
              "      background-color: #E2EBFA;\n",
              "      box-shadow: 0px 1px 2px rgba(60, 64, 67, 0.3), 0px 1px 3px 1px rgba(60, 64, 67, 0.15);\n",
              "      fill: #174EA6;\n",
              "    }\n",
              "\n",
              "    [theme=dark] .colab-df-convert {\n",
              "      background-color: #3B4455;\n",
              "      fill: #D2E3FC;\n",
              "    }\n",
              "\n",
              "    [theme=dark] .colab-df-convert:hover {\n",
              "      background-color: #434B5C;\n",
              "      box-shadow: 0px 1px 3px 1px rgba(0, 0, 0, 0.15);\n",
              "      filter: drop-shadow(0px 1px 2px rgba(0, 0, 0, 0.3));\n",
              "      fill: #FFFFFF;\n",
              "    }\n",
              "  </style>\n",
              "\n",
              "      <script>\n",
              "        const buttonEl =\n",
              "          document.querySelector('#df-cad43c61-31cb-4e6d-b187-09ce83ab0301 button.colab-df-convert');\n",
              "        buttonEl.style.display =\n",
              "          google.colab.kernel.accessAllowed ? 'block' : 'none';\n",
              "\n",
              "        async function convertToInteractive(key) {\n",
              "          const element = document.querySelector('#df-cad43c61-31cb-4e6d-b187-09ce83ab0301');\n",
              "          const dataTable =\n",
              "            await google.colab.kernel.invokeFunction('convertToInteractive',\n",
              "                                                     [key], {});\n",
              "          if (!dataTable) return;\n",
              "\n",
              "          const docLinkHtml = 'Like what you see? Visit the ' +\n",
              "            '<a target=\"_blank\" href=https://colab.research.google.com/notebooks/data_table.ipynb>data table notebook</a>'\n",
              "            + ' to learn more about interactive tables.';\n",
              "          element.innerHTML = '';\n",
              "          dataTable['output_type'] = 'display_data';\n",
              "          await google.colab.output.renderOutput(dataTable, element);\n",
              "          const docLink = document.createElement('div');\n",
              "          docLink.innerHTML = docLinkHtml;\n",
              "          element.appendChild(docLink);\n",
              "        }\n",
              "      </script>\n",
              "    </div>\n",
              "  </div>\n",
              "  "
            ]
          },
          "metadata": {},
          "execution_count": 71
        }
      ]
    },
    {
      "cell_type": "code",
      "source": [],
      "metadata": {
        "id": "Wx3JKZOQ1M1S"
      },
      "execution_count": 71,
      "outputs": []
    }
  ]
}